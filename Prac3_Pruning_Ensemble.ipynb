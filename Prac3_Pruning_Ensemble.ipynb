{
 "cells": [
  {
   "cell_type": "markdown",
   "metadata": {},
   "source": [
    "## Pruning and Ensemble Learning\n",
    "\n",
    "##### Pruning for tree model (cost complexity pruning and finding the best alpha)\n",
    "\n",
    "##### Visualizing tree\n",
    "\n",
    "##### Ensemble learning (Bagging, Boosting)\n"
   ]
  },
  {
   "cell_type": "code",
   "execution_count": 1,
   "metadata": {},
   "outputs": [],
   "source": [
    "#Import library\n",
    "import pandas as pd\n",
    "import numpy as np\n",
    "import matplotlib.pyplot as plt\n",
    "import seaborn as sns\n",
    "#sklearn\n",
    "from sklearn.tree import DecisionTreeClassifier\n",
    "from sklearn.model_selection import GridSearchCV, train_test_split\n",
    "from sklearn.metrics import accuracy_score, roc_curve, roc_auc_score, precision_recall_fscore_support\n",
    "#data\n",
    "from sklearn.datasets import load_breast_cancer\n",
    "bc=load_breast_cancer()"
   ]
  },
  {
   "cell_type": "code",
   "execution_count": 2,
   "metadata": {},
   "outputs": [
    {
     "data": {
      "text/html": [
       "<div>\n",
       "<style scoped>\n",
       "    .dataframe tbody tr th:only-of-type {\n",
       "        vertical-align: middle;\n",
       "    }\n",
       "\n",
       "    .dataframe tbody tr th {\n",
       "        vertical-align: top;\n",
       "    }\n",
       "\n",
       "    .dataframe thead th {\n",
       "        text-align: right;\n",
       "    }\n",
       "</style>\n",
       "<table border=\"1\" class=\"dataframe\">\n",
       "  <thead>\n",
       "    <tr style=\"text-align: right;\">\n",
       "      <th></th>\n",
       "      <th>mean radius</th>\n",
       "      <th>mean texture</th>\n",
       "      <th>mean perimeter</th>\n",
       "      <th>mean area</th>\n",
       "      <th>mean smoothness</th>\n",
       "      <th>mean compactness</th>\n",
       "      <th>mean concavity</th>\n",
       "      <th>mean concave points</th>\n",
       "      <th>mean symmetry</th>\n",
       "      <th>mean fractal dimension</th>\n",
       "      <th>...</th>\n",
       "      <th>worst texture</th>\n",
       "      <th>worst perimeter</th>\n",
       "      <th>worst area</th>\n",
       "      <th>worst smoothness</th>\n",
       "      <th>worst compactness</th>\n",
       "      <th>worst concavity</th>\n",
       "      <th>worst concave points</th>\n",
       "      <th>worst symmetry</th>\n",
       "      <th>worst fractal dimension</th>\n",
       "      <th>target</th>\n",
       "    </tr>\n",
       "  </thead>\n",
       "  <tbody>\n",
       "    <tr>\n",
       "      <th>0</th>\n",
       "      <td>17.99</td>\n",
       "      <td>10.38</td>\n",
       "      <td>122.80</td>\n",
       "      <td>1001.0</td>\n",
       "      <td>0.11840</td>\n",
       "      <td>0.27760</td>\n",
       "      <td>0.3001</td>\n",
       "      <td>0.14710</td>\n",
       "      <td>0.2419</td>\n",
       "      <td>0.07871</td>\n",
       "      <td>...</td>\n",
       "      <td>17.33</td>\n",
       "      <td>184.60</td>\n",
       "      <td>2019.0</td>\n",
       "      <td>0.1622</td>\n",
       "      <td>0.6656</td>\n",
       "      <td>0.7119</td>\n",
       "      <td>0.2654</td>\n",
       "      <td>0.4601</td>\n",
       "      <td>0.11890</td>\n",
       "      <td>0</td>\n",
       "    </tr>\n",
       "    <tr>\n",
       "      <th>1</th>\n",
       "      <td>20.57</td>\n",
       "      <td>17.77</td>\n",
       "      <td>132.90</td>\n",
       "      <td>1326.0</td>\n",
       "      <td>0.08474</td>\n",
       "      <td>0.07864</td>\n",
       "      <td>0.0869</td>\n",
       "      <td>0.07017</td>\n",
       "      <td>0.1812</td>\n",
       "      <td>0.05667</td>\n",
       "      <td>...</td>\n",
       "      <td>23.41</td>\n",
       "      <td>158.80</td>\n",
       "      <td>1956.0</td>\n",
       "      <td>0.1238</td>\n",
       "      <td>0.1866</td>\n",
       "      <td>0.2416</td>\n",
       "      <td>0.1860</td>\n",
       "      <td>0.2750</td>\n",
       "      <td>0.08902</td>\n",
       "      <td>0</td>\n",
       "    </tr>\n",
       "    <tr>\n",
       "      <th>2</th>\n",
       "      <td>19.69</td>\n",
       "      <td>21.25</td>\n",
       "      <td>130.00</td>\n",
       "      <td>1203.0</td>\n",
       "      <td>0.10960</td>\n",
       "      <td>0.15990</td>\n",
       "      <td>0.1974</td>\n",
       "      <td>0.12790</td>\n",
       "      <td>0.2069</td>\n",
       "      <td>0.05999</td>\n",
       "      <td>...</td>\n",
       "      <td>25.53</td>\n",
       "      <td>152.50</td>\n",
       "      <td>1709.0</td>\n",
       "      <td>0.1444</td>\n",
       "      <td>0.4245</td>\n",
       "      <td>0.4504</td>\n",
       "      <td>0.2430</td>\n",
       "      <td>0.3613</td>\n",
       "      <td>0.08758</td>\n",
       "      <td>0</td>\n",
       "    </tr>\n",
       "    <tr>\n",
       "      <th>3</th>\n",
       "      <td>11.42</td>\n",
       "      <td>20.38</td>\n",
       "      <td>77.58</td>\n",
       "      <td>386.1</td>\n",
       "      <td>0.14250</td>\n",
       "      <td>0.28390</td>\n",
       "      <td>0.2414</td>\n",
       "      <td>0.10520</td>\n",
       "      <td>0.2597</td>\n",
       "      <td>0.09744</td>\n",
       "      <td>...</td>\n",
       "      <td>26.50</td>\n",
       "      <td>98.87</td>\n",
       "      <td>567.7</td>\n",
       "      <td>0.2098</td>\n",
       "      <td>0.8663</td>\n",
       "      <td>0.6869</td>\n",
       "      <td>0.2575</td>\n",
       "      <td>0.6638</td>\n",
       "      <td>0.17300</td>\n",
       "      <td>0</td>\n",
       "    </tr>\n",
       "    <tr>\n",
       "      <th>4</th>\n",
       "      <td>20.29</td>\n",
       "      <td>14.34</td>\n",
       "      <td>135.10</td>\n",
       "      <td>1297.0</td>\n",
       "      <td>0.10030</td>\n",
       "      <td>0.13280</td>\n",
       "      <td>0.1980</td>\n",
       "      <td>0.10430</td>\n",
       "      <td>0.1809</td>\n",
       "      <td>0.05883</td>\n",
       "      <td>...</td>\n",
       "      <td>16.67</td>\n",
       "      <td>152.20</td>\n",
       "      <td>1575.0</td>\n",
       "      <td>0.1374</td>\n",
       "      <td>0.2050</td>\n",
       "      <td>0.4000</td>\n",
       "      <td>0.1625</td>\n",
       "      <td>0.2364</td>\n",
       "      <td>0.07678</td>\n",
       "      <td>0</td>\n",
       "    </tr>\n",
       "  </tbody>\n",
       "</table>\n",
       "<p>5 rows × 31 columns</p>\n",
       "</div>"
      ],
      "text/plain": [
       "   mean radius  mean texture  mean perimeter  mean area  mean smoothness  \\\n",
       "0        17.99         10.38          122.80     1001.0          0.11840   \n",
       "1        20.57         17.77          132.90     1326.0          0.08474   \n",
       "2        19.69         21.25          130.00     1203.0          0.10960   \n",
       "3        11.42         20.38           77.58      386.1          0.14250   \n",
       "4        20.29         14.34          135.10     1297.0          0.10030   \n",
       "\n",
       "   mean compactness  mean concavity  mean concave points  mean symmetry  \\\n",
       "0           0.27760          0.3001              0.14710         0.2419   \n",
       "1           0.07864          0.0869              0.07017         0.1812   \n",
       "2           0.15990          0.1974              0.12790         0.2069   \n",
       "3           0.28390          0.2414              0.10520         0.2597   \n",
       "4           0.13280          0.1980              0.10430         0.1809   \n",
       "\n",
       "   mean fractal dimension  ...  worst texture  worst perimeter  worst area  \\\n",
       "0                 0.07871  ...          17.33           184.60      2019.0   \n",
       "1                 0.05667  ...          23.41           158.80      1956.0   \n",
       "2                 0.05999  ...          25.53           152.50      1709.0   \n",
       "3                 0.09744  ...          26.50            98.87       567.7   \n",
       "4                 0.05883  ...          16.67           152.20      1575.0   \n",
       "\n",
       "   worst smoothness  worst compactness  worst concavity  worst concave points  \\\n",
       "0            0.1622             0.6656           0.7119                0.2654   \n",
       "1            0.1238             0.1866           0.2416                0.1860   \n",
       "2            0.1444             0.4245           0.4504                0.2430   \n",
       "3            0.2098             0.8663           0.6869                0.2575   \n",
       "4            0.1374             0.2050           0.4000                0.1625   \n",
       "\n",
       "   worst symmetry  worst fractal dimension  target  \n",
       "0          0.4601                  0.11890       0  \n",
       "1          0.2750                  0.08902       0  \n",
       "2          0.3613                  0.08758       0  \n",
       "3          0.6638                  0.17300       0  \n",
       "4          0.2364                  0.07678       0  \n",
       "\n",
       "[5 rows x 31 columns]"
      ]
     },
     "execution_count": 2,
     "metadata": {},
     "output_type": "execute_result"
    }
   ],
   "source": [
    "features=bc['data']\n",
    "feature_names=bc['feature_names']\n",
    "target=bc['target']\n",
    "df=pd.DataFrame(features,columns=feature_names)\n",
    "df['target']=target\n",
    "df.head()"
   ]
  },
  {
   "cell_type": "code",
   "execution_count": 76,
   "metadata": {},
   "outputs": [],
   "source": [
    "#Other way\n",
    "X,Y=load_breast_cancer(return_X_y=True)\n",
    "X_train,X_test,Y_train,Y_test=train_test_split(X,Y,test_size=0.2,random_state=40)\n",
    "clf=DecisionTreeClassifier(random_state=0)\n",
    "path=clf.cost_complexity_pruning_path(X_train,Y_train)\n",
    "ccp_alphas, impurities=path.ccp_alphas,path.impurities"
   ]
  },
  {
   "cell_type": "code",
   "execution_count": 5,
   "metadata": {},
   "outputs": [
    {
     "data": {
      "text/plain": [
       "Text(0.5, 1.0, 'Total impurity vs effective alpha for training set')"
      ]
     },
     "execution_count": 5,
     "metadata": {},
     "output_type": "execute_result"
    },
    {
     "data": {
      "image/png": "[encoded data removed]",
      "text/plain": [
       "<Figure size 432x288 with 1 Axes>"
      ]
     },
     "metadata": {
      "needs_background": "light"
     },
     "output_type": "display_data"
    }
   ],
   "source": [
    "fig,ax=plt.subplots()\n",
    "ax.plot(ccp_alphas[:-1],impurities[:-1],marker='o',drawstyle='steps-post')\n",
    "ax.set_xlabel('effective alpha')\n",
    "ax.set_ylabel('total impurieis of leaves')\n",
    "ax.set_title('Total impurity vs effective alpha for training set')\n",
    "\n",
    "#last value in ccp_alphas prunes whole tree -> leaving a tree with only the root\n"
   ]
  },
  {
   "cell_type": "code",
   "execution_count": 6,
   "metadata": {},
   "outputs": [
    {
     "name": "stdout",
     "output_type": "stream",
     "text": [
      "Number of nodes in the last tree is: 1 with ccp_alpha: 0.33136134195474853\n"
     ]
    }
   ],
   "source": [
    "clfs=[]\n",
    "for ccp_alpha in ccp_alphas:\n",
    "    clf=DecisionTreeClassifier(random_state=40,ccp_alpha=ccp_alpha)\n",
    "    clf.fit(X_train,Y_train)\n",
    "    clfs.append(clf)\n",
    "\n",
    "#We use tree_ attribute to access structure of the tree\n",
    "print(\"Number of nodes in the last tree is: {} with ccp_alpha: {}\".format(clfs[-1].tree_.node_count,ccp_alphas[-1]))"
   ]
  },
  {
   "cell_type": "code",
   "execution_count": 8,
   "metadata": {},
   "outputs": [
    {
     "data": {
      "image/png": "[encoded data removed]",
      "text/plain": [
       "<Figure size 432x288 with 2 Axes>"
      ]
     },
     "metadata": {
      "needs_background": "light"
     },
     "output_type": "display_data"
    }
   ],
   "source": [
    "clfs=clfs[:-1]\n",
    "ccp_alphas=ccp_alphas[:-1]\n",
    "node_counts=[clf.tree_.node_count for clf in clfs]\n",
    "depths=[clf.tree_.max_depth for clf in clfs]\n",
    "fig,ax=plt.subplots(2,1)\n",
    "\n",
    "ax[0].plot(ccp_alphas,node_counts,marker='o',drawstyle='steps-post')\n",
    "ax[0].set_xlabel('alpha')\n",
    "ax[0].set_ylabel('Number of nodes')\n",
    "ax[0].set_title('Number of nodes vs alpha')\n",
    "ax[1].plot(ccp_alphas,depths,marker='o',drawstyle='steps-post')\n",
    "ax[1].set_xlabel('alpha')\n",
    "ax[1].set_ylabel('Depth of the tree')\n",
    "ax[1].set_title('Depth vs Alpha')\n",
    "fig.tight_layout()"
   ]
  },
  {
   "cell_type": "code",
   "execution_count": 9,
   "metadata": {},
   "outputs": [
    {
     "data": {
      "image/png": "[encoded data removed]",
      "text/plain": [
       "<Figure size 432x288 with 1 Axes>"
      ]
     },
     "metadata": {
      "needs_background": "light"
     },
     "output_type": "display_data"
    }
   ],
   "source": [
    "#Comparing training set and test set \n",
    "train_scores=[clf.score(X_train,Y_train) for clf in clfs]\n",
    "test_scores=[clf.score(X_test,Y_test) for clf in clfs]\n",
    "fig, ax=plt.subplots()\n",
    "ax.set_xlabel('alpha')\n",
    "ax.set_ylabel('accuracy')\n",
    "ax.set_title('Accuracy vs alpha for training and test set')\n",
    "ax.plot(ccp_alphas,train_scores,marker='o',label='train',drawstyle='steps-post')\n",
    "ax.plot(ccp_alphas,test_scores,marker='o',label='test',drawstyle='steps-post')\n",
    "ax.legend()\n",
    "plt.show()"
   ]
  },
  {
   "cell_type": "code",
   "execution_count": 37,
   "metadata": {},
   "outputs": [
    {
     "name": "stdout",
     "output_type": "stream",
     "text": [
      "best alpha: {'ccp_alpha': 0.007032967032967031}\n",
      "best score: 0.9341328986182269\n",
      "[0.         0.         0.         0.         0.         0.\n",
      " 0.         0.02862141 0.         0.         0.         0.\n",
      " 0.         0.         0.         0.         0.         0.03955987\n",
      " 0.         0.         0.02834426 0.07483515 0.76922057 0.\n",
      " 0.         0.         0.         0.05941875 0.         0.        ]\n"
     ]
    },
    {
     "data": {
      "text/plain": [
       "0.956140350877193"
      ]
     },
     "execution_count": 37,
     "metadata": {},
     "output_type": "execute_result"
    }
   ],
   "source": [
    "#Finding the best alpha with GridSearchCV\n",
    "#fit and score method\n",
    "params={'ccp_alpha':ccp_alphas}\n",
    "clf=DecisionTreeClassifier()\n",
    "grid_tree=GridSearchCV(clf,param_grid=params,cv=4,refit=True)\n",
    "grid_tree.fit(X_train,Y_train)\n",
    "print('best alpha:',grid_tree.best_params_)\n",
    "print('best score:',grid_tree.best_score_)\n",
    "final_tree=grid_tree.best_estimator_\n",
    "#feature importance -> normalized total reduction of criteria\n",
    "print(final_tree.feature_importances_)\n",
    "Y_pred=final_tree.predict(X_test)\n",
    "accuracy_score(Y_test,Y_pred)"
   ]
  },
  {
   "cell_type": "markdown",
   "metadata": {},
   "source": [
    "##### Visualizing Tree"
   ]
  },
  {
   "cell_type": "code",
   "execution_count": 11,
   "metadata": {},
   "outputs": [
    {
     "data": {
      "image/png": "[encoded data removed]",
      "text/plain": [
       "<Figure size 432x288 with 1 Axes>"
      ]
     },
     "metadata": {
      "needs_background": "light"
     },
     "output_type": "display_data"
    }
   ],
   "source": [
    "from sklearn import tree\n",
    "tree.plot_tree(final_tree)\n",
    "plt.show()"
   ]
  },
  {
   "cell_type": "code",
   "execution_count": 12,
   "metadata": {},
   "outputs": [
    {
     "data": {
      "image/svg+xml": [
       "<?xml version=\"1.0\" encoding=\"UTF-8\" standalone=\"no\"?>\n",
       "<!DOCTYPE svg PUBLIC \"-//W3C//DTD SVG 1.1//EN\"\n",
       " \"http://www.w3.org/Graphics/SVG/1.1/DTD/svg11.dtd\">\n",
       "<!-- Generated by graphviz version 3.0.0 (20220226.1711)\n",
       " -->\n",
       "<!-- Title: Tree Pages: 1 -->\n",
       "<svg width=\"837pt\" height=\"552pt\"\n",
       " viewBox=\"0.00 0.00 836.50 552.00\" xmlns=\"http://www.w3.org/2000/svg\" xmlns:xlink=\"http://www.w3.org/1999/xlink\">\n",
       "<g id=\"graph0\" class=\"graph\" transform=\"scale(1 1) rotate(0) translate(4 548)\">\n",
       "<title>Tree</title>\n",
       "<polygon fill=\"white\" stroke=\"transparent\" points=\"-4,4 -4,-548 832.5,-548 832.5,4 -4,4\"/>\n",
       "<!-- 0 -->\n",
       "<g id=\"node1\" class=\"node\">\n",
       "<title>0</title>\n",
       "<polygon fill=\"#b2d9f5\" stroke=\"black\" points=\"370.5,-544 205.5,-544 205.5,-461 370.5,-461 370.5,-544\"/>\n",
       "<text text-anchor=\"middle\" x=\"288\" y=\"-528.8\" font-family=\"Times New Roman,serif\" font-size=\"14.00\">worst perimeter &lt;= 105.95</text>\n",
       "<text text-anchor=\"middle\" x=\"288\" y=\"-513.8\" font-family=\"Times New Roman,serif\" font-size=\"14.00\">gini = 0.471</text>\n",
       "<text text-anchor=\"middle\" x=\"288\" y=\"-498.8\" font-family=\"Times New Roman,serif\" font-size=\"14.00\">samples = 455</text>\n",
       "<text text-anchor=\"middle\" x=\"288\" y=\"-483.8\" font-family=\"Times New Roman,serif\" font-size=\"14.00\">value = [173, 282]</text>\n",
       "<text text-anchor=\"middle\" x=\"288\" y=\"-468.8\" font-family=\"Times New Roman,serif\" font-size=\"14.00\">class = benign</text>\n",
       "</g>\n",
       "<!-- 1 -->\n",
       "<g id=\"node2\" class=\"node\">\n",
       "<title>1</title>\n",
       "<polygon fill=\"#44a2e6\" stroke=\"black\" points=\"289.5,-425 98.5,-425 98.5,-342 289.5,-342 289.5,-425\"/>\n",
       "<text text-anchor=\"middle\" x=\"194\" y=\"-409.8\" font-family=\"Times New Roman,serif\" font-size=\"14.00\">worst concave points &lt;= 0.159</text>\n",
       "<text text-anchor=\"middle\" x=\"194\" y=\"-394.8\" font-family=\"Times New Roman,serif\" font-size=\"14.00\">gini = 0.097</text>\n",
       "<text text-anchor=\"middle\" x=\"194\" y=\"-379.8\" font-family=\"Times New Roman,serif\" font-size=\"14.00\">samples = 275</text>\n",
       "<text text-anchor=\"middle\" x=\"194\" y=\"-364.8\" font-family=\"Times New Roman,serif\" font-size=\"14.00\">value = [14, 261]</text>\n",
       "<text text-anchor=\"middle\" x=\"194\" y=\"-349.8\" font-family=\"Times New Roman,serif\" font-size=\"14.00\">class = benign</text>\n",
       "</g>\n",
       "<!-- 0&#45;&gt;1 -->\n",
       "<g id=\"edge1\" class=\"edge\">\n",
       "<title>0&#45;&gt;1</title>\n",
       "<path fill=\"none\" stroke=\"black\" d=\"M255.39,-460.91C248.17,-451.92 240.45,-442.32 233.01,-433.05\"/>\n",
       "<polygon fill=\"black\" stroke=\"black\" points=\"235.55,-430.62 226.56,-425.02 230.09,-435.01 235.55,-430.62\"/>\n",
       "<text text-anchor=\"middle\" x=\"223.85\" y=\"-446.17\" font-family=\"Times New Roman,serif\" font-size=\"14.00\">True</text>\n",
       "</g>\n",
       "<!-- 6 -->\n",
       "<g id=\"node7\" class=\"node\">\n",
       "<title>6</title>\n",
       "<polygon fill=\"#e89253\" stroke=\"black\" points=\"479.5,-425 328.5,-425 328.5,-342 479.5,-342 479.5,-425\"/>\n",
       "<text text-anchor=\"middle\" x=\"404\" y=\"-409.8\" font-family=\"Times New Roman,serif\" font-size=\"14.00\">worst texture &lt;= 20.645</text>\n",
       "<text text-anchor=\"middle\" x=\"404\" y=\"-394.8\" font-family=\"Times New Roman,serif\" font-size=\"14.00\">gini = 0.206</text>\n",
       "<text text-anchor=\"middle\" x=\"404\" y=\"-379.8\" font-family=\"Times New Roman,serif\" font-size=\"14.00\">samples = 180</text>\n",
       "<text text-anchor=\"middle\" x=\"404\" y=\"-364.8\" font-family=\"Times New Roman,serif\" font-size=\"14.00\">value = [159, 21]</text>\n",
       "<text text-anchor=\"middle\" x=\"404\" y=\"-349.8\" font-family=\"Times New Roman,serif\" font-size=\"14.00\">class = malignant</text>\n",
       "</g>\n",
       "<!-- 0&#45;&gt;6 -->\n",
       "<g id=\"edge6\" class=\"edge\">\n",
       "<title>0&#45;&gt;6</title>\n",
       "<path fill=\"none\" stroke=\"black\" d=\"M328.25,-460.91C337.42,-451.65 347.26,-441.73 356.7,-432.21\"/>\n",
       "<polygon fill=\"black\" stroke=\"black\" points=\"359.27,-434.59 363.83,-425.02 354.3,-429.66 359.27,-434.59\"/>\n",
       "<text text-anchor=\"middle\" x=\"363.93\" y=\"-446.32\" font-family=\"Times New Roman,serif\" font-size=\"14.00\">False</text>\n",
       "</g>\n",
       "<!-- 2 -->\n",
       "<g id=\"node3\" class=\"node\">\n",
       "<title>2</title>\n",
       "<polygon fill=\"#3e9fe6\" stroke=\"black\" points=\"104,-298.5 0,-298.5 0,-230.5 104,-230.5 104,-298.5\"/>\n",
       "<text text-anchor=\"middle\" x=\"52\" y=\"-283.3\" font-family=\"Times New Roman,serif\" font-size=\"14.00\">gini = 0.044</text>\n",
       "<text text-anchor=\"middle\" x=\"52\" y=\"-268.3\" font-family=\"Times New Roman,serif\" font-size=\"14.00\">samples = 265</text>\n",
       "<text text-anchor=\"middle\" x=\"52\" y=\"-253.3\" font-family=\"Times New Roman,serif\" font-size=\"14.00\">value = [6, 259]</text>\n",
       "<text text-anchor=\"middle\" x=\"52\" y=\"-238.3\" font-family=\"Times New Roman,serif\" font-size=\"14.00\">class = benign</text>\n",
       "</g>\n",
       "<!-- 1&#45;&gt;2 -->\n",
       "<g id=\"edge2\" class=\"edge\">\n",
       "<title>1&#45;&gt;2</title>\n",
       "<path fill=\"none\" stroke=\"black\" d=\"M144.73,-341.91C130.27,-329.99 114.47,-316.98 100.09,-305.12\"/>\n",
       "<polygon fill=\"black\" stroke=\"black\" points=\"102.2,-302.32 92.25,-298.67 97.75,-307.73 102.2,-302.32\"/>\n",
       "</g>\n",
       "<!-- 3 -->\n",
       "<g id=\"node4\" class=\"node\">\n",
       "<title>3</title>\n",
       "<polygon fill=\"#eca06a\" stroke=\"black\" points=\"266,-306 122,-306 122,-223 266,-223 266,-306\"/>\n",
       "<text text-anchor=\"middle\" x=\"194\" y=\"-290.8\" font-family=\"Times New Roman,serif\" font-size=\"14.00\">worst texture &lt;= 23.47</text>\n",
       "<text text-anchor=\"middle\" x=\"194\" y=\"-275.8\" font-family=\"Times New Roman,serif\" font-size=\"14.00\">gini = 0.32</text>\n",
       "<text text-anchor=\"middle\" x=\"194\" y=\"-260.8\" font-family=\"Times New Roman,serif\" font-size=\"14.00\">samples = 10</text>\n",
       "<text text-anchor=\"middle\" x=\"194\" y=\"-245.8\" font-family=\"Times New Roman,serif\" font-size=\"14.00\">value = [8, 2]</text>\n",
       "<text text-anchor=\"middle\" x=\"194\" y=\"-230.8\" font-family=\"Times New Roman,serif\" font-size=\"14.00\">class = malignant</text>\n",
       "</g>\n",
       "<!-- 1&#45;&gt;3 -->\n",
       "<g id=\"edge3\" class=\"edge\">\n",
       "<title>1&#45;&gt;3</title>\n",
       "<path fill=\"none\" stroke=\"black\" d=\"M194,-341.91C194,-333.65 194,-324.86 194,-316.3\"/>\n",
       "<polygon fill=\"black\" stroke=\"black\" points=\"197.5,-316.02 194,-306.02 190.5,-316.02 197.5,-316.02\"/>\n",
       "</g>\n",
       "<!-- 4 -->\n",
       "<g id=\"node5\" class=\"node\">\n",
       "<title>4</title>\n",
       "<polygon fill=\"#399de5\" stroke=\"black\" points=\"119.5,-179.5 22.5,-179.5 22.5,-111.5 119.5,-111.5 119.5,-179.5\"/>\n",
       "<text text-anchor=\"middle\" x=\"71\" y=\"-164.3\" font-family=\"Times New Roman,serif\" font-size=\"14.00\">gini = 0.0</text>\n",
       "<text text-anchor=\"middle\" x=\"71\" y=\"-149.3\" font-family=\"Times New Roman,serif\" font-size=\"14.00\">samples = 2</text>\n",
       "<text text-anchor=\"middle\" x=\"71\" y=\"-134.3\" font-family=\"Times New Roman,serif\" font-size=\"14.00\">value = [0, 2]</text>\n",
       "<text text-anchor=\"middle\" x=\"71\" y=\"-119.3\" font-family=\"Times New Roman,serif\" font-size=\"14.00\">class = benign</text>\n",
       "</g>\n",
       "<!-- 3&#45;&gt;4 -->\n",
       "<g id=\"edge4\" class=\"edge\">\n",
       "<title>3&#45;&gt;4</title>\n",
       "<path fill=\"none\" stroke=\"black\" d=\"M151.33,-222.91C139.03,-211.21 125.62,-198.46 113.35,-186.78\"/>\n",
       "<polygon fill=\"black\" stroke=\"black\" points=\"115.53,-184.02 105.87,-179.67 110.7,-189.1 115.53,-184.02\"/>\n",
       "</g>\n",
       "<!-- 5 -->\n",
       "<g id=\"node6\" class=\"node\">\n",
       "<title>5</title>\n",
       "<polygon fill=\"#e58139\" stroke=\"black\" points=\"250.5,-179.5 137.5,-179.5 137.5,-111.5 250.5,-111.5 250.5,-179.5\"/>\n",
       "<text text-anchor=\"middle\" x=\"194\" y=\"-164.3\" font-family=\"Times New Roman,serif\" font-size=\"14.00\">gini = 0.0</text>\n",
       "<text text-anchor=\"middle\" x=\"194\" y=\"-149.3\" font-family=\"Times New Roman,serif\" font-size=\"14.00\">samples = 8</text>\n",
       "<text text-anchor=\"middle\" x=\"194\" y=\"-134.3\" font-family=\"Times New Roman,serif\" font-size=\"14.00\">value = [8, 0]</text>\n",
       "<text text-anchor=\"middle\" x=\"194\" y=\"-119.3\" font-family=\"Times New Roman,serif\" font-size=\"14.00\">class = malignant</text>\n",
       "</g>\n",
       "<!-- 3&#45;&gt;5 -->\n",
       "<g id=\"edge5\" class=\"edge\">\n",
       "<title>3&#45;&gt;5</title>\n",
       "<path fill=\"none\" stroke=\"black\" d=\"M194,-222.91C194,-212.2 194,-200.62 194,-189.78\"/>\n",
       "<polygon fill=\"black\" stroke=\"black\" points=\"197.5,-189.67 194,-179.67 190.5,-189.67 197.5,-189.67\"/>\n",
       "</g>\n",
       "<!-- 7 -->\n",
       "<g id=\"node8\" class=\"node\">\n",
       "<title>7</title>\n",
       "<polygon fill=\"#85c3ef\" stroke=\"black\" points=\"472,-306 336,-306 336,-223 472,-223 472,-306\"/>\n",
       "<text text-anchor=\"middle\" x=\"404\" y=\"-290.8\" font-family=\"Times New Roman,serif\" font-size=\"14.00\">worst area &lt;= 954.55</text>\n",
       "<text text-anchor=\"middle\" x=\"404\" y=\"-275.8\" font-family=\"Times New Roman,serif\" font-size=\"14.00\">gini = 0.401</text>\n",
       "<text text-anchor=\"middle\" x=\"404\" y=\"-260.8\" font-family=\"Times New Roman,serif\" font-size=\"14.00\">samples = 18</text>\n",
       "<text text-anchor=\"middle\" x=\"404\" y=\"-245.8\" font-family=\"Times New Roman,serif\" font-size=\"14.00\">value = [5, 13]</text>\n",
       "<text text-anchor=\"middle\" x=\"404\" y=\"-230.8\" font-family=\"Times New Roman,serif\" font-size=\"14.00\">class = benign</text>\n",
       "</g>\n",
       "<!-- 6&#45;&gt;7 -->\n",
       "<g id=\"edge7\" class=\"edge\">\n",
       "<title>6&#45;&gt;7</title>\n",
       "<path fill=\"none\" stroke=\"black\" d=\"M404,-341.91C404,-333.65 404,-324.86 404,-316.3\"/>\n",
       "<polygon fill=\"black\" stroke=\"black\" points=\"407.5,-316.02 404,-306.02 400.5,-316.02 407.5,-316.02\"/>\n",
       "</g>\n",
       "<!-- 10 -->\n",
       "<g id=\"node11\" class=\"node\">\n",
       "<title>10</title>\n",
       "<polygon fill=\"#e68843\" stroke=\"black\" points=\"701.5,-306 512.5,-306 512.5,-223 701.5,-223 701.5,-306\"/>\n",
       "<text text-anchor=\"middle\" x=\"607\" y=\"-290.8\" font-family=\"Times New Roman,serif\" font-size=\"14.00\">mean concave points &lt;= 0.049</text>\n",
       "<text text-anchor=\"middle\" x=\"607\" y=\"-275.8\" font-family=\"Times New Roman,serif\" font-size=\"14.00\">gini = 0.094</text>\n",
       "<text text-anchor=\"middle\" x=\"607\" y=\"-260.8\" font-family=\"Times New Roman,serif\" font-size=\"14.00\">samples = 162</text>\n",
       "<text text-anchor=\"middle\" x=\"607\" y=\"-245.8\" font-family=\"Times New Roman,serif\" font-size=\"14.00\">value = [154, 8]</text>\n",
       "<text text-anchor=\"middle\" x=\"607\" y=\"-230.8\" font-family=\"Times New Roman,serif\" font-size=\"14.00\">class = malignant</text>\n",
       "</g>\n",
       "<!-- 6&#45;&gt;10 -->\n",
       "<g id=\"edge10\" class=\"edge\">\n",
       "<title>6&#45;&gt;10</title>\n",
       "<path fill=\"none\" stroke=\"black\" d=\"M474.43,-341.91C491.59,-332.02 510.07,-321.37 527.61,-311.25\"/>\n",
       "<polygon fill=\"black\" stroke=\"black\" points=\"529.78,-314.05 536.69,-306.02 526.28,-307.98 529.78,-314.05\"/>\n",
       "</g>\n",
       "<!-- 8 -->\n",
       "<g id=\"node9\" class=\"node\">\n",
       "<title>8</title>\n",
       "<polygon fill=\"#399de5\" stroke=\"black\" points=\"367,-179.5 269,-179.5 269,-111.5 367,-111.5 367,-179.5\"/>\n",
       "<text text-anchor=\"middle\" x=\"318\" y=\"-164.3\" font-family=\"Times New Roman,serif\" font-size=\"14.00\">gini = 0.0</text>\n",
       "<text text-anchor=\"middle\" x=\"318\" y=\"-149.3\" font-family=\"Times New Roman,serif\" font-size=\"14.00\">samples = 12</text>\n",
       "<text text-anchor=\"middle\" x=\"318\" y=\"-134.3\" font-family=\"Times New Roman,serif\" font-size=\"14.00\">value = [0, 12]</text>\n",
       "<text text-anchor=\"middle\" x=\"318\" y=\"-119.3\" font-family=\"Times New Roman,serif\" font-size=\"14.00\">class = benign</text>\n",
       "</g>\n",
       "<!-- 7&#45;&gt;8 -->\n",
       "<g id=\"edge8\" class=\"edge\">\n",
       "<title>7&#45;&gt;8</title>\n",
       "<path fill=\"none\" stroke=\"black\" d=\"M374.16,-222.91C365.81,-211.54 356.72,-199.18 348.34,-187.77\"/>\n",
       "<polygon fill=\"black\" stroke=\"black\" points=\"351.12,-185.65 342.38,-179.67 345.48,-189.8 351.12,-185.65\"/>\n",
       "</g>\n",
       "<!-- 9 -->\n",
       "<g id=\"node10\" class=\"node\">\n",
       "<title>9</title>\n",
       "<polygon fill=\"#ea9a61\" stroke=\"black\" points=\"498.5,-179.5 385.5,-179.5 385.5,-111.5 498.5,-111.5 498.5,-179.5\"/>\n",
       "<text text-anchor=\"middle\" x=\"442\" y=\"-164.3\" font-family=\"Times New Roman,serif\" font-size=\"14.00\">gini = 0.278</text>\n",
       "<text text-anchor=\"middle\" x=\"442\" y=\"-149.3\" font-family=\"Times New Roman,serif\" font-size=\"14.00\">samples = 6</text>\n",
       "<text text-anchor=\"middle\" x=\"442\" y=\"-134.3\" font-family=\"Times New Roman,serif\" font-size=\"14.00\">value = [5, 1]</text>\n",
       "<text text-anchor=\"middle\" x=\"442\" y=\"-119.3\" font-family=\"Times New Roman,serif\" font-size=\"14.00\">class = malignant</text>\n",
       "</g>\n",
       "<!-- 7&#45;&gt;9 -->\n",
       "<g id=\"edge9\" class=\"edge\">\n",
       "<title>7&#45;&gt;9</title>\n",
       "<path fill=\"none\" stroke=\"black\" d=\"M417.18,-222.91C420.7,-212.09 424.5,-200.38 428.05,-189.44\"/>\n",
       "<polygon fill=\"black\" stroke=\"black\" points=\"431.47,-190.26 431.23,-179.67 424.81,-188.1 431.47,-190.26\"/>\n",
       "</g>\n",
       "<!-- 11 -->\n",
       "<g id=\"node12\" class=\"node\">\n",
       "<title>11</title>\n",
       "<polygon fill=\"#f6d5bd\" stroke=\"black\" points=\"697,-187 517,-187 517,-104 697,-104 697,-187\"/>\n",
       "<text text-anchor=\"middle\" x=\"607\" y=\"-171.8\" font-family=\"Times New Roman,serif\" font-size=\"14.00\">concave points error &lt;= 0.01</text>\n",
       "<text text-anchor=\"middle\" x=\"607\" y=\"-156.8\" font-family=\"Times New Roman,serif\" font-size=\"14.00\">gini = 0.48</text>\n",
       "<text text-anchor=\"middle\" x=\"607\" y=\"-141.8\" font-family=\"Times New Roman,serif\" font-size=\"14.00\">samples = 20</text>\n",
       "<text text-anchor=\"middle\" x=\"607\" y=\"-126.8\" font-family=\"Times New Roman,serif\" font-size=\"14.00\">value = [12, 8]</text>\n",
       "<text text-anchor=\"middle\" x=\"607\" y=\"-111.8\" font-family=\"Times New Roman,serif\" font-size=\"14.00\">class = malignant</text>\n",
       "</g>\n",
       "<!-- 10&#45;&gt;11 -->\n",
       "<g id=\"edge11\" class=\"edge\">\n",
       "<title>10&#45;&gt;11</title>\n",
       "<path fill=\"none\" stroke=\"black\" d=\"M607,-222.91C607,-214.65 607,-205.86 607,-197.3\"/>\n",
       "<polygon fill=\"black\" stroke=\"black\" points=\"610.5,-197.02 607,-187.02 603.5,-197.02 610.5,-197.02\"/>\n",
       "</g>\n",
       "<!-- 14 -->\n",
       "<g id=\"node15\" class=\"node\">\n",
       "<title>14</title>\n",
       "<polygon fill=\"#e58139\" stroke=\"black\" points=\"828.5,-179.5 715.5,-179.5 715.5,-111.5 828.5,-111.5 828.5,-179.5\"/>\n",
       "<text text-anchor=\"middle\" x=\"772\" y=\"-164.3\" font-family=\"Times New Roman,serif\" font-size=\"14.00\">gini = 0.0</text>\n",
       "<text text-anchor=\"middle\" x=\"772\" y=\"-149.3\" font-family=\"Times New Roman,serif\" font-size=\"14.00\">samples = 142</text>\n",
       "<text text-anchor=\"middle\" x=\"772\" y=\"-134.3\" font-family=\"Times New Roman,serif\" font-size=\"14.00\">value = [142, 0]</text>\n",
       "<text text-anchor=\"middle\" x=\"772\" y=\"-119.3\" font-family=\"Times New Roman,serif\" font-size=\"14.00\">class = malignant</text>\n",
       "</g>\n",
       "<!-- 10&#45;&gt;14 -->\n",
       "<g id=\"edge14\" class=\"edge\">\n",
       "<title>10&#45;&gt;14</title>\n",
       "<path fill=\"none\" stroke=\"black\" d=\"M664.25,-222.91C681.36,-210.77 700.09,-197.49 717.05,-185.46\"/>\n",
       "<polygon fill=\"black\" stroke=\"black\" points=\"719.09,-188.31 725.23,-179.67 715.04,-182.6 719.09,-188.31\"/>\n",
       "</g>\n",
       "<!-- 12 -->\n",
       "<g id=\"node13\" class=\"node\">\n",
       "<title>12</title>\n",
       "<polygon fill=\"#e78c49\" stroke=\"black\" points=\"601.5,-68 488.5,-68 488.5,0 601.5,0 601.5,-68\"/>\n",
       "<text text-anchor=\"middle\" x=\"545\" y=\"-52.8\" font-family=\"Times New Roman,serif\" font-size=\"14.00\">gini = 0.142</text>\n",
       "<text text-anchor=\"middle\" x=\"545\" y=\"-37.8\" font-family=\"Times New Roman,serif\" font-size=\"14.00\">samples = 13</text>\n",
       "<text text-anchor=\"middle\" x=\"545\" y=\"-22.8\" font-family=\"Times New Roman,serif\" font-size=\"14.00\">value = [12, 1]</text>\n",
       "<text text-anchor=\"middle\" x=\"545\" y=\"-7.8\" font-family=\"Times New Roman,serif\" font-size=\"14.00\">class = malignant</text>\n",
       "</g>\n",
       "<!-- 11&#45;&gt;12 -->\n",
       "<g id=\"edge12\" class=\"edge\">\n",
       "<title>11&#45;&gt;12</title>\n",
       "<path fill=\"none\" stroke=\"black\" d=\"M583.91,-103.73C579.01,-95.06 573.82,-85.9 568.88,-77.18\"/>\n",
       "<polygon fill=\"black\" stroke=\"black\" points=\"571.83,-75.28 563.85,-68.3 565.74,-78.73 571.83,-75.28\"/>\n",
       "</g>\n",
       "<!-- 13 -->\n",
       "<g id=\"node14\" class=\"node\">\n",
       "<title>13</title>\n",
       "<polygon fill=\"#399de5\" stroke=\"black\" points=\"716.5,-68 619.5,-68 619.5,0 716.5,0 716.5,-68\"/>\n",
       "<text text-anchor=\"middle\" x=\"668\" y=\"-52.8\" font-family=\"Times New Roman,serif\" font-size=\"14.00\">gini = 0.0</text>\n",
       "<text text-anchor=\"middle\" x=\"668\" y=\"-37.8\" font-family=\"Times New Roman,serif\" font-size=\"14.00\">samples = 7</text>\n",
       "<text text-anchor=\"middle\" x=\"668\" y=\"-22.8\" font-family=\"Times New Roman,serif\" font-size=\"14.00\">value = [0, 7]</text>\n",
       "<text text-anchor=\"middle\" x=\"668\" y=\"-7.8\" font-family=\"Times New Roman,serif\" font-size=\"14.00\">class = benign</text>\n",
       "</g>\n",
       "<!-- 11&#45;&gt;13 -->\n",
       "<g id=\"edge13\" class=\"edge\">\n",
       "<title>11&#45;&gt;13</title>\n",
       "<path fill=\"none\" stroke=\"black\" d=\"M629.71,-103.73C634.54,-95.06 639.65,-85.9 644.5,-77.18\"/>\n",
       "<polygon fill=\"black\" stroke=\"black\" points=\"647.64,-78.74 649.45,-68.3 641.53,-75.33 647.64,-78.74\"/>\n",
       "</g>\n",
       "</g>\n",
       "</svg>\n"
      ],
      "text/plain": [
       "<graphviz.sources.Source at 0x1dbb498e908>"
      ]
     },
     "execution_count": 12,
     "metadata": {},
     "output_type": "execute_result"
    }
   ],
   "source": [
    "import graphviz\n",
    "dot_data=tree.export_graphviz(final_tree,out_file=None,feature_names=feature_names,class_names=bc.target_names,filled=True,impurity=True)\n",
    "graph=graphviz.Source(dot_data)\n",
    "graph.render('Breast_Cancer')\n",
    "graph"
   ]
  },
  {
   "cell_type": "markdown",
   "metadata": {},
   "source": [
    "##### Ensemble learning\n",
    "\n",
    "###### Bagging (Random Forests, etc.)\n",
    "\n",
    "###### Boosting (AdaBoost, Gradient Boosting, and XGBoost)"
   ]
  },
  {
   "cell_type": "code",
   "execution_count": 22,
   "metadata": {},
   "outputs": [
    {
     "name": "stderr",
     "output_type": "stream",
     "text": [
      "[Parallel(n_jobs=1)]: Using backend SequentialBackend with 1 concurrent workers.\n",
      "[Parallel(n_jobs=1)]: Done 100 out of 100 | elapsed:    0.1s finished\n"
     ]
    },
    {
     "data": {
      "text/plain": [
       "RandomForestClassifier(bootstrap=True, ccp_alpha=0.0, class_weight=None,\n",
       "                       criterion='gini', max_depth=None, max_features='auto',\n",
       "                       max_leaf_nodes=None, max_samples=None,\n",
       "                       min_impurity_decrease=0.0, min_impurity_split=None,\n",
       "                       min_samples_leaf=1, min_samples_split=2,\n",
       "                       min_weight_fraction_leaf=0.0, n_estimators=100,\n",
       "                       n_jobs=None, oob_score=True, random_state=0, verbose=1,\n",
       "                       warm_start=False)"
      ]
     },
     "execution_count": 22,
     "metadata": {},
     "output_type": "execute_result"
    }
   ],
   "source": [
    "#Bagging (Randomforest)\n",
    "from sklearn.ensemble import RandomForestClassifier\n",
    "\n",
    "forest=RandomForestClassifier(random_state=0,oob_score=True,verbose=1)\n",
    "'''\n",
    "parameters : n_estimators/criterion/max_features='sqrt'/\n",
    "bootstrap=True/oob_score=False \n",
    "'''\n",
    "forest.fit(X_train,Y_train)"
   ]
  },
  {
   "cell_type": "code",
   "execution_count": 33,
   "metadata": {},
   "outputs": [
    {
     "name": "stdout",
     "output_type": "stream",
     "text": [
      "0.9626373626373627\n",
      "(455, 2)\n"
     ]
    },
    {
     "data": {
      "text/plain": [
       "array([[0.9       , 0.1       ],\n",
       "       [0.03030303, 0.96969697],\n",
       "       [0.        , 1.        ],\n",
       "       [0.03571429, 0.96428571],\n",
       "       [0.        , 1.        ],\n",
       "       [1.        , 0.        ],\n",
       "       [1.        , 0.        ],\n",
       "       [0.        , 1.        ],\n",
       "       [0.        , 1.        ],\n",
       "       [0.        , 1.        ],\n",
       "       [0.        , 1.        ],\n",
       "       [0.5625    , 0.4375    ],\n",
       "       [1.        , 0.        ],\n",
       "       [0.02380952, 0.97619048],\n",
       "       [0.03703704, 0.96296296],\n",
       "       [0.        , 1.        ],\n",
       "       [0.        , 1.        ],\n",
       "       [0.02272727, 0.97727273],\n",
       "       [0.        , 1.        ],\n",
       "       [0.        , 1.        ]])"
      ]
     },
     "execution_count": 33,
     "metadata": {},
     "output_type": "execute_result"
    }
   ],
   "source": [
    "print(forest.oob_score_)\n",
    "print(forest.oob_decision_function_.shape)\n",
    "#train sample size, the number of class\n",
    "forest.oob_decision_function_[0:20,:]\n",
    "#the classification rate of the oob samples\n",
    "#by the estimators in which the samples are not included for training"
   ]
  },
  {
   "cell_type": "code",
   "execution_count": 39,
   "metadata": {},
   "outputs": [
    {
     "name": "stdout",
     "output_type": "stream",
     "text": [
      "Elapsed time to compute the importances: 0.135 seconds\n"
     ]
    }
   ],
   "source": [
    "#Feature importance by mean decrease in impurity\n",
    "import time\n",
    "start_time=time.time()\n",
    "importances=forest.feature_importances_\n",
    "std=np.std([tree.feature_importances_ for tree in forest.estimators_],axis=0)\n",
    "elapsed_time=time.time()-start_time\n",
    "\n",
    "print(f\"Elapsed time to compute the importances: {elapsed_time:.3f} seconds\")\n"
   ]
  },
  {
   "cell_type": "code",
   "execution_count": 43,
   "metadata": {},
   "outputs": [
    {
     "data": {
      "image/png": "[encoded data removed]",
      "text/plain": [
       "<Figure size 432x288 with 1 Axes>"
      ]
     },
     "metadata": {
      "needs_background": "light"
     },
     "output_type": "display_data"
    }
   ],
   "source": [
    "forest_importances=pd.Series(importances,index=feature_names)\n",
    "fig,ax=plt.subplots()\n",
    "forest_importances.plot.bar(yerr=std,ax=ax)\n",
    "ax.set_title('Feature importances')\n",
    "ax.set_ylabel('Mean decrease in impurity')\n",
    "fig.tight_layout()"
   ]
  },
  {
   "cell_type": "code",
   "execution_count": 45,
   "metadata": {},
   "outputs": [
    {
     "name": "stderr",
     "output_type": "stream",
     "text": [
      "[Parallel(n_jobs=1)]: Using backend SequentialBackend with 1 concurrent workers.\n",
      "[Parallel(n_jobs=1)]: Done 100 out of 100 | elapsed:    0.0s finished\n"
     ]
    },
    {
     "name": "stdout",
     "output_type": "stream",
     "text": [
      "Elapsed time to compute the importances:6.914 seconds\n"
     ]
    }
   ],
   "source": [
    "#Permutation feature importance\n",
    "from sklearn.inspection import permutation_importance\n",
    "start=time.time()\n",
    "result=permutation_importance(forest,X_test,Y_test,n_repeats=10,random_state=42,n_jobs=2)\n",
    "elapsed_time=time.time()-start\n",
    "print(f\"Elapsed time to compute the importances:{elapsed_time:.3f} seconds\")"
   ]
  },
  {
   "cell_type": "code",
   "execution_count": 46,
   "metadata": {},
   "outputs": [
    {
     "data": {
      "image/png": "[encoded data removed]",
      "text/plain": [
       "<Figure size 432x288 with 1 Axes>"
      ]
     },
     "metadata": {
      "needs_background": "light"
     },
     "output_type": "display_data"
    }
   ],
   "source": [
    "forest_importances=pd.Series(result.importances_mean,index=feature_names)\n",
    "fig,ax=plt.subplots()\n",
    "forest_importances.plot.bar(yerr=result.importances_std,ax=ax)\n",
    "ax.set_title('Feature importance with permutation approach')\n",
    "ax.set_ylabel('Mena accuracy decrease')\n",
    "fig.tight_layout()\n",
    "plt.show()"
   ]
  },
  {
   "cell_type": "code",
   "execution_count": 47,
   "metadata": {},
   "outputs": [],
   "source": [
    "#Boosting Adaboost classifier \n",
    "from sklearn.ensemble import AdaBoostClassifier, GradientBoostingClassifier\n",
    "from sklearn.ensemble import AdaBoostRegressor, GradientBoostingRegressor"
   ]
  },
  {
   "cell_type": "code",
   "execution_count": 56,
   "metadata": {},
   "outputs": [
    {
     "name": "stdout",
     "output_type": "stream",
     "text": [
      "Adaboost classification : 0.9736842105263158\n",
      "Gradient Boosting Classifier : 0.956140350877193\n"
     ]
    }
   ],
   "source": [
    "adbc=AdaBoostClassifier(n_estimators=100).fit(X_train,Y_train) \n",
    "#Adaboost SAMME\n",
    "#base_estimator: default is stump\n",
    "print('Adaboost classification : '+str(adbc.score(X_test,Y_test)))\n",
    "\n",
    "grbc=GradientBoostingClassifier(n_estimators=100,learning_rate=0.1,max_depth=3).fit(X_train,Y_train)\n",
    "#default log loss\n",
    "print('Gradient Boosting Classifier : '+str(grbc.score(X_test,Y_test)))"
   ]
  },
  {
   "cell_type": "code",
   "execution_count": 88,
   "metadata": {},
   "outputs": [],
   "source": [
    "from sklearn.datasets import load_diabetes\n",
    "X,Y=load_diabetes(return_X_y=True)\n",
    "X_train,X_test,Y_train,Y_test=train_test_split(X,Y,test_size=0.2,random_state=40)"
   ]
  },
  {
   "cell_type": "code",
   "execution_count": 71,
   "metadata": {},
   "outputs": [
    {
     "name": "stdout",
     "output_type": "stream",
     "text": [
      "0.3424514404614909\n",
      "0.2561389367602226\n"
     ]
    },
    {
     "data": {
      "text/plain": [
       "<matplotlib.collections.PathCollection at 0x1dbb48dbc08>"
      ]
     },
     "execution_count": 71,
     "metadata": {},
     "output_type": "execute_result"
    },
    {
     "data": {
      "image/png": "[encoded data removed]",
      "text/plain": [
       "<Figure size 432x288 with 1 Axes>"
      ]
     },
     "metadata": {
      "needs_background": "light"
     },
     "output_type": "display_data"
    }
   ],
   "source": [
    "adbr=AdaBoostRegressor(n_estimators=100).fit(X_train,Y_train)\n",
    "print(adbr.score(X_test,Y_test)) #R squared \n",
    "plt.scatter(Y_test,adbr.predict(X_test))\n",
    "\n",
    "gdbr=GradientBoostingRegressor().fit(X_train,Y_train)\n",
    "print(gdbr.score(X_test,Y_test))\n",
    "plt.scatter(Y_test,gdbr.predict(X_test),color='red')"
   ]
  },
  {
   "cell_type": "code",
   "execution_count": 79,
   "metadata": {},
   "outputs": [
    {
     "data": {
      "text/plain": [
       "GridSearchCV(cv=4, error_score=nan,\n",
       "             estimator=XGBClassifier(base_score=None, booster=None,\n",
       "                                     callbacks=None, colsample_bylevel=None,\n",
       "                                     colsample_bynode=None,\n",
       "                                     colsample_bytree=None,\n",
       "                                     early_stopping_rounds=None,\n",
       "                                     enable_categorical=False, eval_metric=None,\n",
       "                                     gamma=None, gpu_id=None, grow_policy=None,\n",
       "                                     importance_type=None,\n",
       "                                     interaction_constraints=None,\n",
       "                                     learning_rate=None, max...\n",
       "                                     missing=nan, monotone_constraints=None,\n",
       "                                     n_estimators=100, n_jobs=None,\n",
       "                                     num_parallel_tree=None,\n",
       "                                     objective='binary:logistic',\n",
       "                                     predictor=None, random_state=None,\n",
       "                                     reg_alpha=None, ...),\n",
       "             iid='deprecated', n_jobs=None,\n",
       "             param_grid={'gamma': [0, 0.1, 1], 'max_depth': [5, 6, 7],\n",
       "                         'min_child_weight': [0, 1, 2, 3]},\n",
       "             pre_dispatch='2*n_jobs', refit=True, return_train_score=False,\n",
       "             scoring=None, verbose=0)"
      ]
     },
     "execution_count": 79,
     "metadata": {},
     "output_type": "execute_result"
    }
   ],
   "source": [
    "import xgboost as xgb\n",
    "#min_child_weight, max_depth, gamma should be tuned\n",
    "xgbc=xgb.XGBClassifier(n_estimators=100)\n",
    "#learning rate eta default 0.1 min_child_weight: cover(sum of hessians)\n",
    "#max depth, gamma (when gain<gamma no split)\n",
    "#colsample_bytree : the ratio of feature sample for single tree\n",
    "params={'max_depth':[5,6,7],'min_child_weight':[0,1,2,3],'gamma':[0,0.1,1]}\n",
    "xggrid=GridSearchCV(xgbc,param_grid=params,cv=4)\n",
    "xggrid.fit(X_train,Y_train)"
   ]
  },
  {
   "cell_type": "code",
   "execution_count": 87,
   "metadata": {},
   "outputs": [
    {
     "name": "stdout",
     "output_type": "stream",
     "text": [
      "{'gamma': 0.1, 'max_depth': 6, 'min_child_weight': 0}\n"
     ]
    },
    {
     "data": {
      "text/plain": [
       "0.956140350877193"
      ]
     },
     "execution_count": 87,
     "metadata": {},
     "output_type": "execute_result"
    }
   ],
   "source": [
    "print(xggrid.best_params_)\n",
    "xggrid.best_estimator_.score(X_test,Y_test)"
   ]
  },
  {
   "cell_type": "code",
   "execution_count": 91,
   "metadata": {},
   "outputs": [
    {
     "data": {
      "text/plain": [
       "GridSearchCV(cv=4, error_score=nan,\n",
       "             estimator=XGBRegressor(base_score=None, booster=None,\n",
       "                                    callbacks=None, colsample_bylevel=None,\n",
       "                                    colsample_bynode=None,\n",
       "                                    colsample_bytree=None,\n",
       "                                    early_stopping_rounds=None,\n",
       "                                    enable_categorical=False, eval_metric=None,\n",
       "                                    gamma=None, gpu_id=None, grow_policy=None,\n",
       "                                    importance_type=None,\n",
       "                                    interaction_constraints=None,\n",
       "                                    learning_rate=None, max_...\n",
       "                                    monotone_constraints=None, n_estimators=100,\n",
       "                                    n_jobs=None, num_parallel_tree=None,\n",
       "                                    objective='reg:squarederror',\n",
       "                                    predictor=None, random_state=None,\n",
       "                                    reg_alpha=None, ...),\n",
       "             iid='deprecated', n_jobs=None,\n",
       "             param_grid={'gamma': [0, 0.1, 1], 'max_depth': [5, 6, 7],\n",
       "                         'min_child_weight': [0, 1, 2, 3]},\n",
       "             pre_dispatch='2*n_jobs', refit=True, return_train_score=False,\n",
       "             scoring=None, verbose=0)"
      ]
     },
     "execution_count": 91,
     "metadata": {},
     "output_type": "execute_result"
    }
   ],
   "source": [
    "xgbr=xgb.XGBRegressor(n_estimators=100)\n",
    "params={'max_depth':[5,6,7],'min_child_weight':[0,1,2,3],'gamma':[0,0.1,1]}\n",
    "xggrid_r=GridSearchCV(xgbr,param_grid=params,cv=4)\n",
    "xggrid_r.fit(X_train,Y_train)"
   ]
  },
  {
   "cell_type": "code",
   "execution_count": 93,
   "metadata": {},
   "outputs": [
    {
     "name": "stdout",
     "output_type": "stream",
     "text": [
      "{'gamma': 0.1, 'max_depth': 5, 'min_child_weight': 0}\n",
      "0.10279708949610389\n"
     ]
    },
    {
     "data": {
      "text/plain": [
       "<matplotlib.collections.PathCollection at 0x1dbb7926608>"
      ]
     },
     "execution_count": 93,
     "metadata": {},
     "output_type": "execute_result"
    },
    {
     "data": {
      "image/png": "[encoded data removed]",
      "text/plain": [
       "<Figure size 432x288 with 1 Axes>"
      ]
     },
     "metadata": {
      "needs_background": "light"
     },
     "output_type": "display_data"
    }
   ],
   "source": [
    "print(xggrid_r.best_params_)\n",
    "print(xggrid_r.best_estimator_.score(X_test,Y_test))\n",
    "plt.scatter(Y_test,xggrid_r.best_estimator_.predict(X_test))"
   ]
  },
  {
   "cell_type": "code",
   "execution_count": null,
   "metadata": {},
   "outputs": [],
   "source": []
  }
 ],
 "metadata": {
  "kernelspec": {
   "display_name": "Python 3",
   "language": "python",
   "name": "python3"
  },
  "language_info": {
   "codemirror_mode": {
    "name": "ipython",
    "version": 3
   },
   "file_extension": ".py",
   "mimetype": "text/x-python",
   "name": "python",
   "nbconvert_exporter": "python",
   "pygments_lexer": "ipython3",
   "version": "3.7.6"
  }
 },
 "nbformat": 4,
 "nbformat_minor": 4
}
