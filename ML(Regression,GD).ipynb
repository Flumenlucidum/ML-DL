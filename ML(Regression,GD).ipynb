{
 "cells": [
  {
   "cell_type": "code",
   "execution_count": 1,
   "metadata": {
    "scrolled": false
   },
   "outputs": [
    {
     "data": {
      "text/html": [
       "<div>\n",
       "<style scoped>\n",
       "    .dataframe tbody tr th:only-of-type {\n",
       "        vertical-align: middle;\n",
       "    }\n",
       "\n",
       "    .dataframe tbody tr th {\n",
       "        vertical-align: top;\n",
       "    }\n",
       "\n",
       "    .dataframe thead th {\n",
       "        text-align: right;\n",
       "    }\n",
       "</style>\n",
       "<table border=\"1\" class=\"dataframe\">\n",
       "  <thead>\n",
       "    <tr style=\"text-align: right;\">\n",
       "      <th></th>\n",
       "      <th>rental_id</th>\n",
       "      <th>rent</th>\n",
       "      <th>bedrooms</th>\n",
       "      <th>bathrooms</th>\n",
       "      <th>size_sqft</th>\n",
       "      <th>min_to_subway</th>\n",
       "      <th>floor</th>\n",
       "      <th>building_age_yrs</th>\n",
       "      <th>no_fee</th>\n",
       "      <th>has_roofdeck</th>\n",
       "      <th>has_washer_dryer</th>\n",
       "      <th>has_doorman</th>\n",
       "      <th>has_elevator</th>\n",
       "      <th>has_dishwasher</th>\n",
       "      <th>has_patio</th>\n",
       "      <th>has_gym</th>\n",
       "      <th>neighborhood</th>\n",
       "      <th>borough</th>\n",
       "    </tr>\n",
       "  </thead>\n",
       "  <tbody>\n",
       "    <tr>\n",
       "      <th>0</th>\n",
       "      <td>1545</td>\n",
       "      <td>2550</td>\n",
       "      <td>0.0</td>\n",
       "      <td>1</td>\n",
       "      <td>480</td>\n",
       "      <td>9</td>\n",
       "      <td>2.0</td>\n",
       "      <td>17</td>\n",
       "      <td>1</td>\n",
       "      <td>1</td>\n",
       "      <td>0</td>\n",
       "      <td>0</td>\n",
       "      <td>1</td>\n",
       "      <td>1</td>\n",
       "      <td>0</td>\n",
       "      <td>1</td>\n",
       "      <td>Upper East Side</td>\n",
       "      <td>Manhattan</td>\n",
       "    </tr>\n",
       "    <tr>\n",
       "      <th>1</th>\n",
       "      <td>2472</td>\n",
       "      <td>11500</td>\n",
       "      <td>2.0</td>\n",
       "      <td>2</td>\n",
       "      <td>2000</td>\n",
       "      <td>4</td>\n",
       "      <td>1.0</td>\n",
       "      <td>96</td>\n",
       "      <td>0</td>\n",
       "      <td>0</td>\n",
       "      <td>0</td>\n",
       "      <td>0</td>\n",
       "      <td>0</td>\n",
       "      <td>0</td>\n",
       "      <td>0</td>\n",
       "      <td>0</td>\n",
       "      <td>Greenwich Village</td>\n",
       "      <td>Manhattan</td>\n",
       "    </tr>\n",
       "    <tr>\n",
       "      <th>2</th>\n",
       "      <td>2919</td>\n",
       "      <td>4500</td>\n",
       "      <td>1.0</td>\n",
       "      <td>1</td>\n",
       "      <td>916</td>\n",
       "      <td>2</td>\n",
       "      <td>51.0</td>\n",
       "      <td>29</td>\n",
       "      <td>0</td>\n",
       "      <td>1</td>\n",
       "      <td>0</td>\n",
       "      <td>1</td>\n",
       "      <td>1</td>\n",
       "      <td>1</td>\n",
       "      <td>0</td>\n",
       "      <td>0</td>\n",
       "      <td>Midtown</td>\n",
       "      <td>Manhattan</td>\n",
       "    </tr>\n",
       "    <tr>\n",
       "      <th>3</th>\n",
       "      <td>2790</td>\n",
       "      <td>4795</td>\n",
       "      <td>1.0</td>\n",
       "      <td>1</td>\n",
       "      <td>975</td>\n",
       "      <td>3</td>\n",
       "      <td>8.0</td>\n",
       "      <td>31</td>\n",
       "      <td>0</td>\n",
       "      <td>0</td>\n",
       "      <td>0</td>\n",
       "      <td>1</td>\n",
       "      <td>1</td>\n",
       "      <td>1</td>\n",
       "      <td>0</td>\n",
       "      <td>1</td>\n",
       "      <td>Greenwich Village</td>\n",
       "      <td>Manhattan</td>\n",
       "    </tr>\n",
       "    <tr>\n",
       "      <th>4</th>\n",
       "      <td>3946</td>\n",
       "      <td>17500</td>\n",
       "      <td>2.0</td>\n",
       "      <td>2</td>\n",
       "      <td>4800</td>\n",
       "      <td>3</td>\n",
       "      <td>4.0</td>\n",
       "      <td>136</td>\n",
       "      <td>0</td>\n",
       "      <td>0</td>\n",
       "      <td>0</td>\n",
       "      <td>1</td>\n",
       "      <td>1</td>\n",
       "      <td>1</td>\n",
       "      <td>0</td>\n",
       "      <td>1</td>\n",
       "      <td>Soho</td>\n",
       "      <td>Manhattan</td>\n",
       "    </tr>\n",
       "  </tbody>\n",
       "</table>\n",
       "</div>"
      ],
      "text/plain": [
       "   rental_id   rent  bedrooms  bathrooms  size_sqft  min_to_subway  floor  \\\n",
       "0       1545   2550       0.0          1        480              9    2.0   \n",
       "1       2472  11500       2.0          2       2000              4    1.0   \n",
       "2       2919   4500       1.0          1        916              2   51.0   \n",
       "3       2790   4795       1.0          1        975              3    8.0   \n",
       "4       3946  17500       2.0          2       4800              3    4.0   \n",
       "\n",
       "   building_age_yrs  no_fee  has_roofdeck  has_washer_dryer  has_doorman  \\\n",
       "0                17       1             1                 0            0   \n",
       "1                96       0             0                 0            0   \n",
       "2                29       0             1                 0            1   \n",
       "3                31       0             0                 0            1   \n",
       "4               136       0             0                 0            1   \n",
       "\n",
       "   has_elevator  has_dishwasher  has_patio  has_gym       neighborhood  \\\n",
       "0             1               1          0        1    Upper East Side   \n",
       "1             0               0          0        0  Greenwich Village   \n",
       "2             1               1          0        0            Midtown   \n",
       "3             1               1          0        1  Greenwich Village   \n",
       "4             1               1          0        1               Soho   \n",
       "\n",
       "     borough  \n",
       "0  Manhattan  \n",
       "1  Manhattan  \n",
       "2  Manhattan  \n",
       "3  Manhattan  \n",
       "4  Manhattan  "
      ]
     },
     "execution_count": 1,
     "metadata": {},
     "output_type": "execute_result"
    }
   ],
   "source": [
    "import pandas as pd\n",
    "df=pd.read_csv('manhattan.csv')\n",
    "df.head()"
   ]
  },
  {
   "cell_type": "code",
   "execution_count": 2,
   "metadata": {},
   "outputs": [],
   "source": [
    "#Feature Scaling \n",
    "from sklearn.preprocessing import StandardScaler\n",
    "scaler=StandardScaler()\n",
    "df_scaled=df\n",
    "df_scaled[['rent','size_sqft','min_to_subway','building_age_yrs']]=scaler.fit_transform(df[['rent','size_sqft','min_to_subway','building_age_yrs']])\n"
   ]
  },
  {
   "cell_type": "code",
   "execution_count": 3,
   "metadata": {},
   "outputs": [
    {
     "data": {
      "text/html": [
       "<div>\n",
       "<style scoped>\n",
       "    .dataframe tbody tr th:only-of-type {\n",
       "        vertical-align: middle;\n",
       "    }\n",
       "\n",
       "    .dataframe tbody tr th {\n",
       "        vertical-align: top;\n",
       "    }\n",
       "\n",
       "    .dataframe thead th {\n",
       "        text-align: right;\n",
       "    }\n",
       "</style>\n",
       "<table border=\"1\" class=\"dataframe\">\n",
       "  <thead>\n",
       "    <tr style=\"text-align: right;\">\n",
       "      <th></th>\n",
       "      <th>rental_id</th>\n",
       "      <th>rent</th>\n",
       "      <th>bedrooms</th>\n",
       "      <th>bathrooms</th>\n",
       "      <th>size_sqft</th>\n",
       "      <th>min_to_subway</th>\n",
       "      <th>floor</th>\n",
       "      <th>building_age_yrs</th>\n",
       "      <th>no_fee</th>\n",
       "      <th>has_roofdeck</th>\n",
       "      <th>has_washer_dryer</th>\n",
       "      <th>has_doorman</th>\n",
       "      <th>has_elevator</th>\n",
       "      <th>has_dishwasher</th>\n",
       "      <th>has_patio</th>\n",
       "      <th>has_gym</th>\n",
       "      <th>neighborhood</th>\n",
       "      <th>borough</th>\n",
       "    </tr>\n",
       "  </thead>\n",
       "  <tbody>\n",
       "    <tr>\n",
       "      <th>0</th>\n",
       "      <td>1545</td>\n",
       "      <td>-0.818669</td>\n",
       "      <td>0.0</td>\n",
       "      <td>1</td>\n",
       "      <td>-0.962011</td>\n",
       "      <td>0.730862</td>\n",
       "      <td>2.0</td>\n",
       "      <td>-0.888763</td>\n",
       "      <td>1</td>\n",
       "      <td>1</td>\n",
       "      <td>0</td>\n",
       "      <td>0</td>\n",
       "      <td>1</td>\n",
       "      <td>1</td>\n",
       "      <td>0</td>\n",
       "      <td>1</td>\n",
       "      <td>Upper East Side</td>\n",
       "      <td>Manhattan</td>\n",
       "    </tr>\n",
       "    <tr>\n",
       "      <th>1</th>\n",
       "      <td>2472</td>\n",
       "      <td>2.011480</td>\n",
       "      <td>2.0</td>\n",
       "      <td>2</td>\n",
       "      <td>2.218694</td>\n",
       "      <td>-0.176116</td>\n",
       "      <td>1.0</td>\n",
       "      <td>1.117593</td>\n",
       "      <td>0</td>\n",
       "      <td>0</td>\n",
       "      <td>0</td>\n",
       "      <td>0</td>\n",
       "      <td>0</td>\n",
       "      <td>0</td>\n",
       "      <td>0</td>\n",
       "      <td>0</td>\n",
       "      <td>Greenwich Village</td>\n",
       "      <td>Manhattan</td>\n",
       "    </tr>\n",
       "    <tr>\n",
       "      <th>2</th>\n",
       "      <td>2919</td>\n",
       "      <td>-0.202044</td>\n",
       "      <td>1.0</td>\n",
       "      <td>1</td>\n",
       "      <td>-0.049651</td>\n",
       "      <td>-0.538908</td>\n",
       "      <td>51.0</td>\n",
       "      <td>-0.584000</td>\n",
       "      <td>0</td>\n",
       "      <td>1</td>\n",
       "      <td>0</td>\n",
       "      <td>1</td>\n",
       "      <td>1</td>\n",
       "      <td>1</td>\n",
       "      <td>0</td>\n",
       "      <td>0</td>\n",
       "      <td>Midtown</td>\n",
       "      <td>Manhattan</td>\n",
       "    </tr>\n",
       "    <tr>\n",
       "      <th>3</th>\n",
       "      <td>2790</td>\n",
       "      <td>-0.108760</td>\n",
       "      <td>1.0</td>\n",
       "      <td>1</td>\n",
       "      <td>0.073811</td>\n",
       "      <td>-0.357512</td>\n",
       "      <td>8.0</td>\n",
       "      <td>-0.533206</td>\n",
       "      <td>0</td>\n",
       "      <td>0</td>\n",
       "      <td>0</td>\n",
       "      <td>1</td>\n",
       "      <td>1</td>\n",
       "      <td>1</td>\n",
       "      <td>0</td>\n",
       "      <td>1</td>\n",
       "      <td>Greenwich Village</td>\n",
       "      <td>Manhattan</td>\n",
       "    </tr>\n",
       "    <tr>\n",
       "      <th>4</th>\n",
       "      <td>3946</td>\n",
       "      <td>3.908786</td>\n",
       "      <td>2.0</td>\n",
       "      <td>2</td>\n",
       "      <td>8.077886</td>\n",
       "      <td>-0.357512</td>\n",
       "      <td>4.0</td>\n",
       "      <td>2.133470</td>\n",
       "      <td>0</td>\n",
       "      <td>0</td>\n",
       "      <td>0</td>\n",
       "      <td>1</td>\n",
       "      <td>1</td>\n",
       "      <td>1</td>\n",
       "      <td>0</td>\n",
       "      <td>1</td>\n",
       "      <td>Soho</td>\n",
       "      <td>Manhattan</td>\n",
       "    </tr>\n",
       "    <tr>\n",
       "      <th>...</th>\n",
       "      <td>...</td>\n",
       "      <td>...</td>\n",
       "      <td>...</td>\n",
       "      <td>...</td>\n",
       "      <td>...</td>\n",
       "      <td>...</td>\n",
       "      <td>...</td>\n",
       "      <td>...</td>\n",
       "      <td>...</td>\n",
       "      <td>...</td>\n",
       "      <td>...</td>\n",
       "      <td>...</td>\n",
       "      <td>...</td>\n",
       "      <td>...</td>\n",
       "      <td>...</td>\n",
       "      <td>...</td>\n",
       "      <td>...</td>\n",
       "      <td>...</td>\n",
       "    </tr>\n",
       "    <tr>\n",
       "      <th>3534</th>\n",
       "      <td>7582</td>\n",
       "      <td>-0.293747</td>\n",
       "      <td>1.0</td>\n",
       "      <td>1</td>\n",
       "      <td>-0.853197</td>\n",
       "      <td>-0.357512</td>\n",
       "      <td>8.0</td>\n",
       "      <td>-0.914160</td>\n",
       "      <td>1</td>\n",
       "      <td>1</td>\n",
       "      <td>1</td>\n",
       "      <td>1</td>\n",
       "      <td>1</td>\n",
       "      <td>1</td>\n",
       "      <td>0</td>\n",
       "      <td>1</td>\n",
       "      <td>Chelsea</td>\n",
       "      <td>Manhattan</td>\n",
       "    </tr>\n",
       "    <tr>\n",
       "      <th>3535</th>\n",
       "      <td>5686</td>\n",
       "      <td>0.485729</td>\n",
       "      <td>2.0</td>\n",
       "      <td>2</td>\n",
       "      <td>0.101014</td>\n",
       "      <td>0.005279</td>\n",
       "      <td>10.0</td>\n",
       "      <td>-1.091938</td>\n",
       "      <td>1</td>\n",
       "      <td>1</td>\n",
       "      <td>1</td>\n",
       "      <td>1</td>\n",
       "      <td>1</td>\n",
       "      <td>1</td>\n",
       "      <td>0</td>\n",
       "      <td>1</td>\n",
       "      <td>Tribeca</td>\n",
       "      <td>Manhattan</td>\n",
       "    </tr>\n",
       "    <tr>\n",
       "      <th>3536</th>\n",
       "      <td>9679</td>\n",
       "      <td>-1.087770</td>\n",
       "      <td>0.0</td>\n",
       "      <td>1</td>\n",
       "      <td>-1.443302</td>\n",
       "      <td>-0.538908</td>\n",
       "      <td>5.0</td>\n",
       "      <td>1.117593</td>\n",
       "      <td>0</td>\n",
       "      <td>0</td>\n",
       "      <td>0</td>\n",
       "      <td>0</td>\n",
       "      <td>0</td>\n",
       "      <td>0</td>\n",
       "      <td>0</td>\n",
       "      <td>0</td>\n",
       "      <td>Little Italy</td>\n",
       "      <td>Manhattan</td>\n",
       "    </tr>\n",
       "    <tr>\n",
       "      <th>3537</th>\n",
       "      <td>5188</td>\n",
       "      <td>-0.526167</td>\n",
       "      <td>1.0</td>\n",
       "      <td>1</td>\n",
       "      <td>-0.604182</td>\n",
       "      <td>0.186675</td>\n",
       "      <td>5.0</td>\n",
       "      <td>-0.964953</td>\n",
       "      <td>1</td>\n",
       "      <td>0</td>\n",
       "      <td>1</td>\n",
       "      <td>1</td>\n",
       "      <td>1</td>\n",
       "      <td>1</td>\n",
       "      <td>0</td>\n",
       "      <td>1</td>\n",
       "      <td>Midtown West</td>\n",
       "      <td>Manhattan</td>\n",
       "    </tr>\n",
       "    <tr>\n",
       "      <th>3538</th>\n",
       "      <td>4718</td>\n",
       "      <td>-0.202044</td>\n",
       "      <td>1.0</td>\n",
       "      <td>1</td>\n",
       "      <td>-0.258908</td>\n",
       "      <td>-0.176116</td>\n",
       "      <td>11.0</td>\n",
       "      <td>-1.091938</td>\n",
       "      <td>0</td>\n",
       "      <td>1</td>\n",
       "      <td>1</td>\n",
       "      <td>1</td>\n",
       "      <td>1</td>\n",
       "      <td>0</td>\n",
       "      <td>1</td>\n",
       "      <td>1</td>\n",
       "      <td>Tribeca</td>\n",
       "      <td>Manhattan</td>\n",
       "    </tr>\n",
       "  </tbody>\n",
       "</table>\n",
       "<p>3539 rows × 18 columns</p>\n",
       "</div>"
      ],
      "text/plain": [
       "      rental_id      rent  bedrooms  bathrooms  size_sqft  min_to_subway  \\\n",
       "0          1545 -0.818669       0.0          1  -0.962011       0.730862   \n",
       "1          2472  2.011480       2.0          2   2.218694      -0.176116   \n",
       "2          2919 -0.202044       1.0          1  -0.049651      -0.538908   \n",
       "3          2790 -0.108760       1.0          1   0.073811      -0.357512   \n",
       "4          3946  3.908786       2.0          2   8.077886      -0.357512   \n",
       "...         ...       ...       ...        ...        ...            ...   \n",
       "3534       7582 -0.293747       1.0          1  -0.853197      -0.357512   \n",
       "3535       5686  0.485729       2.0          2   0.101014       0.005279   \n",
       "3536       9679 -1.087770       0.0          1  -1.443302      -0.538908   \n",
       "3537       5188 -0.526167       1.0          1  -0.604182       0.186675   \n",
       "3538       4718 -0.202044       1.0          1  -0.258908      -0.176116   \n",
       "\n",
       "      floor  building_age_yrs  no_fee  has_roofdeck  has_washer_dryer  \\\n",
       "0       2.0         -0.888763       1             1                 0   \n",
       "1       1.0          1.117593       0             0                 0   \n",
       "2      51.0         -0.584000       0             1                 0   \n",
       "3       8.0         -0.533206       0             0                 0   \n",
       "4       4.0          2.133470       0             0                 0   \n",
       "...     ...               ...     ...           ...               ...   \n",
       "3534    8.0         -0.914160       1             1                 1   \n",
       "3535   10.0         -1.091938       1             1                 1   \n",
       "3536    5.0          1.117593       0             0                 0   \n",
       "3537    5.0         -0.964953       1             0                 1   \n",
       "3538   11.0         -1.091938       0             1                 1   \n",
       "\n",
       "      has_doorman  has_elevator  has_dishwasher  has_patio  has_gym  \\\n",
       "0               0             1               1          0        1   \n",
       "1               0             0               0          0        0   \n",
       "2               1             1               1          0        0   \n",
       "3               1             1               1          0        1   \n",
       "4               1             1               1          0        1   \n",
       "...           ...           ...             ...        ...      ...   \n",
       "3534            1             1               1          0        1   \n",
       "3535            1             1               1          0        1   \n",
       "3536            0             0               0          0        0   \n",
       "3537            1             1               1          0        1   \n",
       "3538            1             1               0          1        1   \n",
       "\n",
       "           neighborhood    borough  \n",
       "0       Upper East Side  Manhattan  \n",
       "1     Greenwich Village  Manhattan  \n",
       "2               Midtown  Manhattan  \n",
       "3     Greenwich Village  Manhattan  \n",
       "4                  Soho  Manhattan  \n",
       "...                 ...        ...  \n",
       "3534            Chelsea  Manhattan  \n",
       "3535            Tribeca  Manhattan  \n",
       "3536       Little Italy  Manhattan  \n",
       "3537       Midtown West  Manhattan  \n",
       "3538            Tribeca  Manhattan  \n",
       "\n",
       "[3539 rows x 18 columns]"
      ]
     },
     "execution_count": 3,
     "metadata": {},
     "output_type": "execute_result"
    }
   ],
   "source": [
    "df_scaled"
   ]
  },
  {
   "cell_type": "code",
   "execution_count": 4,
   "metadata": {},
   "outputs": [],
   "source": [
    "#normal equation method \n",
    "import numpy as np\n",
    "ones=np.ones(3539)\n",
    "df_scaled_mat=np.asarray(df_scaled)"
   ]
  },
  {
   "cell_type": "code",
   "execution_count": 5,
   "metadata": {},
   "outputs": [],
   "source": [
    "X=np.column_stack((ones,df_scaled_mat[:,(4,5,7)]))"
   ]
  },
  {
   "cell_type": "code",
   "execution_count": 6,
   "metadata": {},
   "outputs": [],
   "source": [
    "Y=df_scaled_mat[:,1]"
   ]
  },
  {
   "cell_type": "code",
   "execution_count": 7,
   "metadata": {},
   "outputs": [],
   "source": [
    "XtX=np.matmul(np.transpose(X),X)\n",
    "XtX=XtX.astype(float)\n",
    "XtX_inv=np.linalg.inv(XtX)"
   ]
  },
  {
   "cell_type": "code",
   "execution_count": 8,
   "metadata": {},
   "outputs": [],
   "source": [
    "XtY=np.matmul(np.transpose(X),Y)\n",
    "XtY=XtY.astype(float)\n",
    "theta_hat=np.matmul(XtX_inv,XtY)"
   ]
  },
  {
   "cell_type": "code",
   "execution_count": 9,
   "metadata": {},
   "outputs": [
    {
     "data": {
      "text/plain": [
       "array([-5.19716328e-17,  8.61088429e-01, -2.57929494e-02, -1.46134332e-01])"
      ]
     },
     "execution_count": 9,
     "metadata": {},
     "output_type": "execute_result"
    }
   ],
   "source": [
    "theta_hat"
   ]
  },
  {
   "cell_type": "code",
   "execution_count": 10,
   "metadata": {},
   "outputs": [
    {
     "data": {
      "text/plain": [
       "LinearRegression(copy_X=True, fit_intercept=True, n_jobs=None, normalize=False)"
      ]
     },
     "execution_count": 10,
     "metadata": {},
     "output_type": "execute_result"
    }
   ],
   "source": [
    "#Check with modules\n",
    "from sklearn.linear_model import LinearRegression\n",
    "mlr=LinearRegression()\n",
    "mlr.fit(X,Y)"
   ]
  },
  {
   "cell_type": "code",
   "execution_count": 11,
   "metadata": {},
   "outputs": [
    {
     "name": "stdout",
     "output_type": "stream",
     "text": [
      "[ 0.          0.86108843 -0.02579295 -0.14613433]\n"
     ]
    }
   ],
   "source": [
    "print(mlr.coef_)"
   ]
  },
  {
   "cell_type": "code",
   "execution_count": 12,
   "metadata": {},
   "outputs": [],
   "source": [
    "import matplotlib.pyplot as plt\n",
    "my_apartment=[[1,0.5,0.5,0.5]]\n",
    "y_predicted=mlr.predict(my_apartment)"
   ]
  },
  {
   "cell_type": "code",
   "execution_count": 13,
   "metadata": {},
   "outputs": [
    {
     "data": {
      "text/plain": [
       "array([0.34458057])"
      ]
     },
     "execution_count": 13,
     "metadata": {},
     "output_type": "execute_result"
    }
   ],
   "source": [
    "y_predicted"
   ]
  },
  {
   "cell_type": "code",
   "execution_count": 49,
   "metadata": {},
   "outputs": [
    {
     "name": "stdout",
     "output_type": "stream",
     "text": [
      "Final coefficient:  [0.08969176346963285, 1.0595953024661133, -0.17050173194331406, -0.2815544967301545]\n"
     ]
    }
   ],
   "source": [
    "#Gradient Descent \n",
    "import random\n",
    "lr=0.01 ; batch=10\n",
    "theta=[random.uniform(-10.0,10.0) for i in range(4)]\n",
    "for i in range(int((len(df_scaled)+1)/batch)):\n",
    "\n",
    "    hx=theta[0]*batch+theta[1]*df_scaled.iloc[batch*(i+1)-10:batch*(i+1),4].sum()+theta[2]*df_scaled.iloc[batch*(i+1)-10:batch*(i+1),5].sum()+theta[3]*df_scaled.iloc[batch*(i+1)-10:batch*(i+1),7].sum()\n",
    "    y=df_scaled.iloc[batch*(i+1)-10:batch*(i+1),1].sum()\n",
    "    hxy=hx-y\n",
    "    theta_new=[0,0,0,0]\n",
    "    theta_new[0]=theta[0]-lr*hxy/batch\n",
    "    theta_new[1]=theta[1]-lr*hxy*df_scaled.iloc[batch*(i+1)-10:batch*(i+1),4].sum()/batch\n",
    "    theta_new[2]=theta[2]-lr*hxy*df_scaled.iloc[batch*(i+1)-10:batch*(i+1),5].sum()/batch\n",
    "    theta_new[3]=theta[3]-lr*hxy*df_scaled.iloc[batch*(i+1)-10:batch*(i+1),7].sum()/batch\n",
    "    theta=theta_new\n",
    "\n",
    "print('Final coefficient: ',theta)\n",
    "    "
   ]
  },
  {
   "cell_type": "code",
   "execution_count": 55,
   "metadata": {},
   "outputs": [
    {
     "name": "stdout",
     "output_type": "stream",
     "text": [
      "Final coefficient:  [0.028850037940753345, 0.9115932299756583, -0.008270729084877903, -0.098264589756518]\n"
     ]
    }
   ],
   "source": [
    "#stochastic gradient descent\n",
    "lr=0.01 ; batch=1\n",
    "theta=[random.uniform(-10.0,10.0) for i in range(4)]\n",
    "for i in range(int((len(df_scaled))/batch)):\n",
    "\n",
    "    hx=theta[0]*batch+theta[1]*df_scaled.iloc[batch*i,4]+theta[2]*df_scaled.iloc[batch*i,5]+theta[3]*df_scaled.iloc[batch*i,7]\n",
    "    y=df_scaled.iloc[batch*i,1]\n",
    "    hxy=hx-y\n",
    "    theta_new=[0,0,0,0]\n",
    "    theta_new[0]=theta[0]-lr*hxy/batch\n",
    "    theta_new[1]=theta[1]-lr*hxy*df_scaled.iloc[batch*i,4]/batch\n",
    "    theta_new[2]=theta[2]-lr*hxy*df_scaled.iloc[batch*i,5]/batch\n",
    "    theta_new[3]=theta[3]-lr*hxy*df_scaled.iloc[batch*i,7]/batch\n",
    "    theta=theta_new\n",
    "\n",
    "print('Final coefficient: ',theta)"
   ]
  },
  {
   "cell_type": "code",
   "execution_count": 63,
   "metadata": {},
   "outputs": [],
   "source": [
    "X_new=df_scaled_mat[:,(4,5,7)]"
   ]
  },
  {
   "cell_type": "code",
   "execution_count": 71,
   "metadata": {},
   "outputs": [],
   "source": [
    "#check with module\n",
    "import numpy as np\n",
    "from sklearn.linear_model import SGDRegressor\n",
    "from sklearn.pipeline import make_pipeline\n",
    "#reg=make_pipeline(SGDRegressor(max_iter=3500))\n",
    "#reg.fit(X_new,Y)\n",
    "reg= SGDRegressor(loss='squared_loss',alpha=0.01,max_iter=3500, learning_rate='constant')"
   ]
  },
  {
   "cell_type": "code",
   "execution_count": 72,
   "metadata": {},
   "outputs": [
    {
     "data": {
      "text/plain": [
       "SGDRegressor(alpha=0.01, average=False, early_stopping=False, epsilon=0.1,\n",
       "             eta0=0.01, fit_intercept=True, l1_ratio=0.15,\n",
       "             learning_rate='constant', loss='squared_loss', max_iter=3500,\n",
       "             n_iter_no_change=5, penalty='l2', power_t=0.25, random_state=None,\n",
       "             shuffle=True, tol=0.001, validation_fraction=0.1, verbose=0,\n",
       "             warm_start=False)"
      ]
     },
     "execution_count": 72,
     "metadata": {},
     "output_type": "execute_result"
    }
   ],
   "source": [
    "reg.fit(X_new,Y)"
   ]
  },
  {
   "cell_type": "code",
   "execution_count": 74,
   "metadata": {},
   "outputs": [
    {
     "data": {
      "text/plain": [
       "array([ 0.79733855, -0.0421617 , -0.1726252 ])"
      ]
     },
     "execution_count": 74,
     "metadata": {},
     "output_type": "execute_result"
    }
   ],
   "source": [
    "reg.coef_"
   ]
  },
  {
   "cell_type": "code",
   "execution_count": 89,
   "metadata": {},
   "outputs": [
    {
     "name": "stdout",
     "output_type": "stream",
     "text": [
      "Final coefficient: [5.094926384961473, -1.965821273138831, -4.020483722661868, -9.307814694884994]\n"
     ]
    }
   ],
   "source": [
    "#Logistic Regression\n",
    "#first with gradient descent\n",
    "import math\n",
    "lr=0.01 ; batch=10\n",
    "theta=[random.uniform(-10.0,10.0) for i in range(4)]\n",
    "\n",
    "for j in range(int((len(df_scaled)+1)/batch)-1):\n",
    "    loss=0\n",
    "    for i in range((j+1)*batch-10,(j+1)*batch):\n",
    "        loss=[0,0,0,0]\n",
    "        thx=theta[0]*batch+theta[1]*df_scaled.iloc[i,4]+theta[2]*df_scaled.iloc[i,5]+theta[3]*df_scaled.iloc[i,7]\n",
    "        hx=1/(1+math.exp(-thx))\n",
    "        y=df_scaled.iloc[i,12]\n",
    "        k=hx-y\n",
    "\n",
    "        loss[0]+=k\n",
    "        loss[1]+=k*df_scaled.iloc[i,4]\n",
    "        loss[2]+=k*df_scaled.iloc[i,5]\n",
    "        loss[3]+=k*df_scaled.iloc[i,7]\n",
    "        \n",
    "    \n",
    "    theta_new=[0,0,0,0]\n",
    "    theta_new[0]=theta[0]-lr*(1/batch)*loss[0]\n",
    "    theta_new[1]=theta[1]-lr*(1/batch)*loss[1]\n",
    "    theta_new[2]=theta[2]-lr*(1/batch)*loss[2]\n",
    "    theta_new[3]=theta[3]-lr*(1/batch)*loss[3]\n",
    "    theta=theta_new\n",
    "    \n",
    "print('Final coefficient:',theta)"
   ]
  },
  {
   "cell_type": "code",
   "execution_count": 92,
   "metadata": {},
   "outputs": [],
   "source": [
    "from sklearn.linear_model import LogisticRegression\n",
    "Y_log=df_scaled.iloc[:,12]\n",
    "logreg=LogisticRegression(random_state=0, max_iter=3500).fit(X_new,Y_log)"
   ]
  },
  {
   "cell_type": "code",
   "execution_count": 93,
   "metadata": {},
   "outputs": [
    {
     "data": {
      "text/plain": [
       "array([[ 0.09176661, -0.03040091, -0.14218592]])"
      ]
     },
     "execution_count": 93,
     "metadata": {},
     "output_type": "execute_result"
    }
   ],
   "source": [
    "logreg.coef_  # why are "
   ]
  },
  {
   "cell_type": "code",
   "execution_count": 94,
   "metadata": {},
   "outputs": [
    {
     "data": {
      "text/plain": [
       "array([-0.87820341])"
      ]
     },
     "execution_count": 94,
     "metadata": {},
     "output_type": "execute_result"
    }
   ],
   "source": [
    "logreg.intercept_"
   ]
  },
  {
   "cell_type": "code",
   "execution_count": null,
   "metadata": {},
   "outputs": [],
   "source": []
  }
 ],
 "metadata": {
  "kernelspec": {
   "display_name": "Python 3",
   "language": "python",
   "name": "python3"
  },
  "language_info": {
   "codemirror_mode": {
    "name": "ipython",
    "version": 3
   },
   "file_extension": ".py",
   "mimetype": "text/x-python",
   "name": "python",
   "nbconvert_exporter": "python",
   "pygments_lexer": "ipython3",
   "version": "3.7.6"
  }
 },
 "nbformat": 4,
 "nbformat_minor": 4
}
