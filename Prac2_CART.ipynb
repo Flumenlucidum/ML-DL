{
 "cells": [
  {
   "cell_type": "markdown",
   "metadata": {},
   "source": [
    "## CART\n",
    "\n",
    "#### Regreesion Tree\n",
    "#### Classification Tree\n",
    "#### sklearn\n",
    "#### Evaluation Metrics\n"
   ]
  },
  {
   "cell_type": "code",
   "execution_count": 1,
   "metadata": {},
   "outputs": [
    {
     "data": {
      "text/html": [
       "<div>\n",
       "<style scoped>\n",
       "    .dataframe tbody tr th:only-of-type {\n",
       "        vertical-align: middle;\n",
       "    }\n",
       "\n",
       "    .dataframe tbody tr th {\n",
       "        vertical-align: top;\n",
       "    }\n",
       "\n",
       "    .dataframe thead th {\n",
       "        text-align: right;\n",
       "    }\n",
       "</style>\n",
       "<table border=\"1\" class=\"dataframe\">\n",
       "  <thead>\n",
       "    <tr style=\"text-align: right;\">\n",
       "      <th></th>\n",
       "      <th>size_sqft</th>\n",
       "      <th>min_to_subway</th>\n",
       "      <th>has_gym</th>\n",
       "      <th>rent</th>\n",
       "    </tr>\n",
       "  </thead>\n",
       "  <tbody>\n",
       "    <tr>\n",
       "      <th>0</th>\n",
       "      <td>480</td>\n",
       "      <td>9</td>\n",
       "      <td>1</td>\n",
       "      <td>2550</td>\n",
       "    </tr>\n",
       "    <tr>\n",
       "      <th>1</th>\n",
       "      <td>2000</td>\n",
       "      <td>4</td>\n",
       "      <td>0</td>\n",
       "      <td>11500</td>\n",
       "    </tr>\n",
       "    <tr>\n",
       "      <th>2</th>\n",
       "      <td>916</td>\n",
       "      <td>2</td>\n",
       "      <td>0</td>\n",
       "      <td>4500</td>\n",
       "    </tr>\n",
       "    <tr>\n",
       "      <th>3</th>\n",
       "      <td>975</td>\n",
       "      <td>3</td>\n",
       "      <td>1</td>\n",
       "      <td>4795</td>\n",
       "    </tr>\n",
       "    <tr>\n",
       "      <th>4</th>\n",
       "      <td>4800</td>\n",
       "      <td>3</td>\n",
       "      <td>1</td>\n",
       "      <td>17500</td>\n",
       "    </tr>\n",
       "  </tbody>\n",
       "</table>\n",
       "</div>"
      ],
      "text/plain": [
       "   size_sqft  min_to_subway  has_gym   rent\n",
       "0        480              9        1   2550\n",
       "1       2000              4        0  11500\n",
       "2        916              2        0   4500\n",
       "3        975              3        1   4795\n",
       "4       4800              3        1  17500"
      ]
     },
     "execution_count": 1,
     "metadata": {},
     "output_type": "execute_result"
    }
   ],
   "source": [
    "#Import libraries\n",
    "import numpy as np\n",
    "import pandas as pd\n",
    "import matplotlib.pyplot as plt\n",
    "import seaborn as sns\n",
    "\n",
    "from sklearn.tree import DecisionTreeRegressor\n",
    "from sklearn.model_selection import train_test_split\n",
    "from sklearn.metrics import mean_squared_error\n",
    "#Get data\n",
    "\n",
    "manhat=pd.read_csv('manhattan.csv')\n",
    "manhat=manhat[['size_sqft','min_to_subway','has_gym','rent']]\n",
    "manhat_np=np.array(manhat)\n",
    "X=manhat_np[:,:-1]\n",
    "Y=manhat_np[:,-1].reshape(-1,1)\n",
    "X_train,X_test,Y_train,Y_test=train_test_split(X,Y,test_size=0.2,random_state=41)\n",
    "manhat.head()"
   ]
  },
  {
   "cell_type": "code",
   "execution_count": 2,
   "metadata": {},
   "outputs": [],
   "source": [
    "#Reference from https://github.com/Suji04/ML_from_Scratch/blob/master/decision%20tree%20classification.ipynb\n",
    "#Regression tree \n",
    "#Node class\n",
    "class Node:\n",
    "    def __init__(self,feature_index=None,threshold=None,left=None,right=None,value=None):\n",
    "        self.feature_index=feature_index\n",
    "        self.threshold=threshold\n",
    "        self.left=left\n",
    "        self.right=right\n",
    "        #for leaf node #mean value of the target\n",
    "        self.value=value\n",
    "        \n",
    "#Tree class\n",
    "class RegTree:\n",
    "    def __init__(self,min_samples_split=10,max_depth=10):\n",
    "        #Initialize the root\n",
    "        self.root=None\n",
    "        \n",
    "        #stopping conditions\n",
    "        self.min_samples_split=min_samples_split\n",
    "        self.max_depth=max_depth\n",
    "    \n",
    "    def build_tree(self,dataset,curr_depth=0):\n",
    "        X,Y=dataset[:,:-1],dataset[:,-1]\n",
    "        num_samples,num_features=np.shape(X)\n",
    "        \n",
    "        if num_samples>=self.min_samples_split and curr_depth<=self.max_depth:\n",
    "            \n",
    "            best_split=self.get_best_split(dataset,num_features)\n",
    "            if best_split:\n",
    "                #Recursive function    \n",
    "                left_subtree=self.build_tree(best_split['data_left'],curr_depth+1)\n",
    "                right_subtree=self.build_tree(best_split['data_right'],curr_depth+1)\n",
    "                return Node(best_split['feature_index'],best_split['threshold'], left_subtree, right_subtree)\n",
    "\n",
    "        leaf_value=Y.mean()\n",
    "        return Node(value=leaf_value)\n",
    "    \n",
    "    def get_best_split(self,dataset,num_features):\n",
    "        rss_min=float('inf')\n",
    "        best_split={}\n",
    "        for i in range(num_features):\n",
    "            possible_thresholds=np.unique(dataset[:,i])\n",
    "            for threshold in possible_thresholds:\n",
    "                #Split into two regions\n",
    "                R1=dataset[dataset[:,i]<threshold,:]\n",
    "                R2=dataset[dataset[:,i]>=threshold,:]\n",
    "\n",
    "                if len(R1)>0 and len(R2)>0:\n",
    "                    target=R1[:,-1]\n",
    "                    mean=np.full(target.shape,np.mean(target))\n",
    "                    rss_R1=np.square(target-mean).sum()\n",
    "                    target=R2[:,-1]\n",
    "                    mean=np.full(target.shape,np.mean(target))\n",
    "                    rss_R2=np.square(target-mean).sum()\n",
    "                    rss_total=rss_R1+rss_R2\n",
    "\n",
    "                    if rss_total<rss_min:\n",
    "                        rss_min=rss_total\n",
    "                        best_split['feature_index']=i\n",
    "                        best_split['threshold']=threshold\n",
    "                        best_split['data_left']=R1\n",
    "                        best_split['data_right']=R2\n",
    "        return best_split   \n",
    "    \n",
    "    def fit(self,X,Y):\n",
    "        dataset=np.concatenate((X,Y),axis=1)\n",
    "        self.root=self.build_tree(dataset)\n",
    "    \n",
    "    def predict(self,X):\n",
    "        predictions=[self.make_predictions(x,self.root) for x in X]\n",
    "        return predictions\n",
    "    \n",
    "    def make_predictions(self,x,tree):\n",
    "        #predict single data point\n",
    "        #recursive prediction\n",
    "        if tree.value!=None:\n",
    "            return tree.value\n",
    "        feature_val=x[tree.feature_index]\n",
    "        if feature_val<tree.threshold:\n",
    "            return self.make_predictions(x,tree.left)\n",
    "        else:\n",
    "            return self.make_predictions(x,tree.right)\n",
    "    \n",
    "    def print_tree(self,tree=None,indent=\"  \"):\n",
    "        if not tree:\n",
    "            tree=self.root\n",
    "        \n",
    "        if tree.value is not None:\n",
    "            print(tree.value)\n",
    "        \n",
    "        else:\n",
    "            print(\"X\"+str(tree.feature_index+1),\"<\", tree.threshold)\n",
    "            print(\"%sleft:\" % (indent),end=\"\")\n",
    "            self.print_tree(tree.left,indent+indent)\n",
    "            print(\"%sright:\" % (indent),end=\"\")\n",
    "            self.print_tree(tree.right,indent+indent)"
   ]
  },
  {
   "cell_type": "code",
   "execution_count": 3,
   "metadata": {},
   "outputs": [
    {
     "name": "stdout",
     "output_type": "stream",
     "text": [
      "3214468.7810082138\n"
     ]
    },
    {
     "data": {
      "text/plain": [
       "<matplotlib.collections.PathCollection at 0x1eb16661808>"
      ]
     },
     "execution_count": 3,
     "metadata": {},
     "output_type": "execute_result"
    },
    {
     "data": {
      "image/png": "[encoded data removed]",
      "text/plain": [
       "<Figure size 432x288 with 1 Axes>"
      ]
     },
     "metadata": {
      "needs_background": "light"
     },
     "output_type": "display_data"
    }
   ],
   "source": [
    "reg=RegTree()\n",
    "reg.fit(X_train,Y_train)\n",
    "Y_pred=reg.predict(X_test)\n",
    "print(mean_squared_error(Y_pred,Y_test))\n",
    "plt.scatter(Y_test,Y_pred)"
   ]
  },
  {
   "cell_type": "code",
   "execution_count": 4,
   "metadata": {},
   "outputs": [
    {
     "name": "stdout",
     "output_type": "stream",
     "text": [
      "0.9505524372622004\n",
      "0.6111130743664925\n",
      "4274244.3628851\n"
     ]
    },
    {
     "data": {
      "text/plain": [
       "<matplotlib.collections.PathCollection at 0x1eb16720488>"
      ]
     },
     "execution_count": 4,
     "metadata": {},
     "output_type": "execute_result"
    },
    {
     "data": {
      "image/png": "[encoded data removed]",
      "text/plain": [
       "<Figure size 432x288 with 1 Axes>"
      ]
     },
     "metadata": {
      "needs_background": "light"
     },
     "output_type": "display_data"
    }
   ],
   "source": [
    "#DT regressor with sklearn\n",
    "DTregressor=DecisionTreeRegressor(random_state=10)\n",
    "#min_samples_split=2,max_depth=None,criterion gini or entropy  splitter best or random\n",
    "DTregressor.fit(X_train,Y_train)\n",
    "print(DTregressor.score(X_train,Y_train))\n",
    "Y_pred=DTregressor.predict(X_test)\n",
    "print(DTregressor.score(X_test,Y_test))\n",
    "print(mean_squared_error(Y_pred,Y_test))\n",
    "plt.scatter(Y_test,Y_pred)"
   ]
  },
  {
   "cell_type": "code",
   "execution_count": 5,
   "metadata": {},
   "outputs": [
    {
     "data": {
      "image/png": "[encoded data removed]",
      "text/plain": [
       "<Figure size 720x504 with 1 Axes>"
      ]
     },
     "metadata": {
      "needs_background": "light"
     },
     "output_type": "display_data"
    },
    {
     "data": {
      "image/png": "[encoded data removed]",
      "text/plain": [
       "<Figure size 720x504 with 1 Axes>"
      ]
     },
     "metadata": {
      "needs_background": "light"
     },
     "output_type": "display_data"
    }
   ],
   "source": [
    "#Classification Tree\n",
    "from sklearn.tree import DecisionTreeClassifier\n",
    "#score --> accuracy \n",
    "from sklearn.metrics import accuracy_score\n",
    "#Get data\n",
    "from sklearn.datasets import load_iris\n",
    "iris=load_iris()\n",
    "features=iris['data']\n",
    "feature_names=iris['feature_names']\n",
    "labels=iris['target']\n",
    "df=pd.DataFrame(features,columns=feature_names)\n",
    "df['target']=labels\n",
    "df.head()\n",
    "\n",
    "plt.figure(figsize=(10,7))\n",
    "sns.scatterplot(df.iloc[:,0],df.iloc[:,1],hue=df['target'],palette='muted')\n",
    "plt.title('Sepal', fontsize=17)\n",
    "plt.show()\n",
    "plt.figure(figsize=(10, 7))\n",
    "sns.scatterplot(df.iloc[:, 2], df.iloc[:, 3], hue=df['target'], palette='muted')\n",
    "plt.title('Petal', fontsize=17)\n",
    "plt.show()"
   ]
  },
  {
   "cell_type": "code",
   "execution_count": 6,
   "metadata": {},
   "outputs": [],
   "source": [
    "#train test split\n",
    "df.head()\n",
    "df_np=np.array(df)\n",
    "X=df_np[:,:-1]\n",
    "Y=df_np[:,-1].reshape(-1,1)\n",
    "X_train,X_test,Y_train,Y_test=train_test_split(X,Y,test_size=0.2,random_state=40)"
   ]
  },
  {
   "cell_type": "code",
   "execution_count": 7,
   "metadata": {},
   "outputs": [],
   "source": [
    "#Classification tree \n",
    "#Node class\n",
    "class Node:\n",
    "    def __init__(self,feature_index=None,threshold=None,left=None,right=None,value=None):\n",
    "        self.feature_index=feature_index\n",
    "        self.threshold=threshold\n",
    "        self.left=left\n",
    "        self.right=right\n",
    "        \n",
    "        #for leaf node #mean value of the target\n",
    "        self.value=value\n",
    "        \n",
    "#Tree class\n",
    "class ClassTree:\n",
    "    def __init__(self,min_samples_split=10,max_depth=10):\n",
    "        #Initialize the root\n",
    "        self.root=None\n",
    "        \n",
    "        #stopping conditions\n",
    "        self.min_samples_split=min_samples_split\n",
    "        self.max_depth=max_depth\n",
    "    \n",
    "    def build_tree(self,dataset,curr_depth=0):\n",
    "        X,Y=dataset[:,:-1],dataset[:,-1]\n",
    "        num_samples,num_features=np.shape(X)\n",
    "        \n",
    "        if num_samples>=self.min_samples_split and curr_depth<=self.max_depth:\n",
    "            \n",
    "            best_split=self.get_best_split(dataset,num_features)\n",
    "            if best_split:\n",
    "                #Recursive function    \n",
    "                left_subtree=self.build_tree(best_split['data_left'],curr_depth+1)\n",
    "                right_subtree=self.build_tree(best_split['data_right'],curr_depth+1)\n",
    "                return Node(best_split['feature_index'],best_split['threshold'], left_subtree, right_subtree)\n",
    "\n",
    "        leaf_value=np.bincount(np.int64(Y)).argmax() # Get the class with the highest frequency\n",
    "        return Node(value=leaf_value)\n",
    "    \n",
    "    def get_best_split(self,dataset,num_features,mode='entropy'):\n",
    "        measure_min=float('inf')  #measure can be either entropy or gini\n",
    "        best_split={}\n",
    "        for i in range(num_features):\n",
    "            possible_thresholds=np.unique(dataset[:,i])\n",
    "            for threshold in possible_thresholds:\n",
    "                #Split into two regions\n",
    "                R1=dataset[dataset[:,i]<threshold,:]\n",
    "                R2=dataset[dataset[:,i]>=threshold,:]\n",
    "\n",
    "                if len(R1)>0 and len(R2)>0:\n",
    "                    target=R1[:,-1]\n",
    "                    measure_R1=self.measure(target,mode=mode)\n",
    "                    target=R2[:,-1]\n",
    "                    measure_R2=self.measure(target,mode=mode)\n",
    "                    measure_total=len(R1)/(len(R1)+len(R2))*measure_R1+len(R2)/(len(R1)+len(R2))*measure_R2\n",
    "                    \n",
    "                    if measure_total<measure_min:\n",
    "                        measure_min=measure_total\n",
    "                        best_split['feature_index']=i\n",
    "                        best_split['threshold']=threshold\n",
    "                        best_split['data_left']=R1\n",
    "                        best_split['data_right']=R2\n",
    "        return best_split   \n",
    "    \n",
    "    def measure(self,y,mode='entropy'):\n",
    "        class_labels=np.unique(y)\n",
    "        if mode=='entropy':\n",
    "            entropy=0\n",
    "            for cls in class_labels:\n",
    "                p_cls=len(y[y==cls])/len(y)\n",
    "                entropy-=(p_cls*np.log2(p_cls))\n",
    "            return entropy\n",
    "        elif mode=='gini':\n",
    "            gini=0\n",
    "            for cls in class_lables:\n",
    "                p_cls=len(y[y==cls])/len(y)  #numpy syntax\n",
    "                gini+=p_cls**2\n",
    "\n",
    "            return 1-gini\n",
    "\n",
    "    def fit(self,X,Y):\n",
    "        dataset=np.concatenate((X,Y),axis=1)\n",
    "        self.root=self.build_tree(dataset)\n",
    "    \n",
    "    def predict(self,X):\n",
    "        predictions=[self.make_predictions(x,self.root) for x in X]\n",
    "        return predictions\n",
    "    \n",
    "    def make_predictions(self,x,tree):\n",
    "        #predict single data point\n",
    "        #recursive prediction\n",
    "        if tree.value!=None:\n",
    "            return tree.value\n",
    "        feature_val=x[tree.feature_index]\n",
    "        if feature_val<tree.threshold:\n",
    "            return self.make_predictions(x,tree.left)\n",
    "        else:\n",
    "            return self.make_predictions(x,tree.right)\n",
    "    \n",
    "    def print_tree(self,tree=None,indent=\"  \"):\n",
    "        if not tree:\n",
    "            tree=self.root\n",
    "        \n",
    "        if tree.value is not None:\n",
    "            print(tree.value)\n",
    "        \n",
    "        else:\n",
    "            print(\"X\"+str(tree.feature_index+1),\"<\", tree.threshold)\n",
    "            print(\"%sleft:\" % (indent),end=\"\")\n",
    "            self.print_tree(tree.left,indent+indent)\n",
    "            print(\"%sright:\" % (indent),end=\"\")\n",
    "            self.print_tree(tree.right,indent+indent)"
   ]
  },
  {
   "cell_type": "code",
   "execution_count": 8,
   "metadata": {},
   "outputs": [
    {
     "data": {
      "text/plain": [
       "0.9666666666666667"
      ]
     },
     "execution_count": 8,
     "metadata": {},
     "output_type": "execute_result"
    }
   ],
   "source": [
    "classifier=ClassTree(min_samples_split=8)\n",
    "classifier.fit(X_train,Y_train)\n",
    "Y_pred=classifier.predict(X_test)\n",
    "accuracy_score(Y_pred,Y_test)"
   ]
  },
  {
   "cell_type": "code",
   "execution_count": 9,
   "metadata": {},
   "outputs": [
    {
     "data": {
      "text/plain": [
       "0.9666666666666667"
      ]
     },
     "execution_count": 9,
     "metadata": {},
     "output_type": "execute_result"
    }
   ],
   "source": [
    "#sklearn\n",
    "classifier_sk=DecisionTreeClassifier(min_samples_split=10,max_depth=3)\n",
    "classifier_sk.fit(X_train,Y_train)\n",
    "Y_pred_sk=classifier_sk.predict(X_test)\n",
    "accuracy_score(Y_pred_sk,Y_test)"
   ]
  },
  {
   "cell_type": "markdown",
   "metadata": {},
   "source": [
    "##### Evaluation Metrics"
   ]
  },
  {
   "cell_type": "code",
   "execution_count": 25,
   "metadata": {},
   "outputs": [
    {
     "name": "stdout",
     "output_type": "stream",
     "text": [
      "[[ 8  0  0]\n",
      " [ 0 12  0]\n",
      " [ 0  1  9]]\n",
      "(array([1.        , 0.92307692, 1.        ]), array([1. , 1. , 0.9]), array([1.        , 0.96      , 0.94736842]), array([ 8, 12, 10], dtype=int64))\n",
      "(0.9743589743589745, 0.9666666666666667, 0.9691228070175439, None)\n"
     ]
    }
   ],
   "source": [
    "from sklearn.metrics import confusion_matrix, precision_recall_fscore_support,roc_auc_score, roc_curve, classification_report\n",
    "print(confusion_matrix(Y_test,Y_pred_sk))\n",
    "print(precision_recall_fscore_support(Y_test,Y_pred_sk,beta=1))\n",
    "print(precision_recall_fscore_support(Y_test,Y_pred_sk,beta=1,average='macro'))"
   ]
  },
  {
   "cell_type": "code",
   "execution_count": 26,
   "metadata": {},
   "outputs": [
    {
     "name": "stdout",
     "output_type": "stream",
     "text": [
      "              precision    recall  f1-score   support\n",
      "\n",
      "      setosa       1.00      1.00      1.00         8\n",
      "  versicolor       0.92      1.00      0.96        12\n",
      "   virginica       1.00      0.90      0.95        10\n",
      "\n",
      "    accuracy                           0.97        30\n",
      "   macro avg       0.97      0.97      0.97        30\n",
      "weighted avg       0.97      0.97      0.97        30\n",
      "\n"
     ]
    }
   ],
   "source": [
    "#All in one \n",
    "print(classification_report(Y_test,Y_pred_sk,target_names=iris.target_names))"
   ]
  },
  {
   "cell_type": "code",
   "execution_count": 27,
   "metadata": {},
   "outputs": [
    {
     "data": {
      "text/plain": [
       "(array([0., 1., 2.]), array([ 8, 13,  9], dtype=int64))"
      ]
     },
     "execution_count": 27,
     "metadata": {},
     "output_type": "execute_result"
    }
   ],
   "source": [
    "np.unique(Y_pred_sk,return_counts=True)"
   ]
  },
  {
   "cell_type": "code",
   "execution_count": 35,
   "metadata": {
    "scrolled": true
   },
   "outputs": [
    {
     "data": {
      "text/html": [
       "<div>\n",
       "<style scoped>\n",
       "    .dataframe tbody tr th:only-of-type {\n",
       "        vertical-align: middle;\n",
       "    }\n",
       "\n",
       "    .dataframe tbody tr th {\n",
       "        vertical-align: top;\n",
       "    }\n",
       "\n",
       "    .dataframe thead th {\n",
       "        text-align: right;\n",
       "    }\n",
       "</style>\n",
       "<table border=\"1\" class=\"dataframe\">\n",
       "  <thead>\n",
       "    <tr style=\"text-align: right;\">\n",
       "      <th></th>\n",
       "      <th>mean radius</th>\n",
       "      <th>mean texture</th>\n",
       "      <th>mean perimeter</th>\n",
       "      <th>mean area</th>\n",
       "      <th>mean smoothness</th>\n",
       "      <th>mean compactness</th>\n",
       "      <th>mean concavity</th>\n",
       "      <th>mean concave points</th>\n",
       "      <th>mean symmetry</th>\n",
       "      <th>mean fractal dimension</th>\n",
       "      <th>...</th>\n",
       "      <th>worst texture</th>\n",
       "      <th>worst perimeter</th>\n",
       "      <th>worst area</th>\n",
       "      <th>worst smoothness</th>\n",
       "      <th>worst compactness</th>\n",
       "      <th>worst concavity</th>\n",
       "      <th>worst concave points</th>\n",
       "      <th>worst symmetry</th>\n",
       "      <th>worst fractal dimension</th>\n",
       "      <th>target</th>\n",
       "    </tr>\n",
       "  </thead>\n",
       "  <tbody>\n",
       "    <tr>\n",
       "      <th>0</th>\n",
       "      <td>17.99</td>\n",
       "      <td>10.38</td>\n",
       "      <td>122.80</td>\n",
       "      <td>1001.0</td>\n",
       "      <td>0.11840</td>\n",
       "      <td>0.27760</td>\n",
       "      <td>0.3001</td>\n",
       "      <td>0.14710</td>\n",
       "      <td>0.2419</td>\n",
       "      <td>0.07871</td>\n",
       "      <td>...</td>\n",
       "      <td>17.33</td>\n",
       "      <td>184.60</td>\n",
       "      <td>2019.0</td>\n",
       "      <td>0.1622</td>\n",
       "      <td>0.6656</td>\n",
       "      <td>0.7119</td>\n",
       "      <td>0.2654</td>\n",
       "      <td>0.4601</td>\n",
       "      <td>0.11890</td>\n",
       "      <td>0</td>\n",
       "    </tr>\n",
       "    <tr>\n",
       "      <th>1</th>\n",
       "      <td>20.57</td>\n",
       "      <td>17.77</td>\n",
       "      <td>132.90</td>\n",
       "      <td>1326.0</td>\n",
       "      <td>0.08474</td>\n",
       "      <td>0.07864</td>\n",
       "      <td>0.0869</td>\n",
       "      <td>0.07017</td>\n",
       "      <td>0.1812</td>\n",
       "      <td>0.05667</td>\n",
       "      <td>...</td>\n",
       "      <td>23.41</td>\n",
       "      <td>158.80</td>\n",
       "      <td>1956.0</td>\n",
       "      <td>0.1238</td>\n",
       "      <td>0.1866</td>\n",
       "      <td>0.2416</td>\n",
       "      <td>0.1860</td>\n",
       "      <td>0.2750</td>\n",
       "      <td>0.08902</td>\n",
       "      <td>0</td>\n",
       "    </tr>\n",
       "    <tr>\n",
       "      <th>2</th>\n",
       "      <td>19.69</td>\n",
       "      <td>21.25</td>\n",
       "      <td>130.00</td>\n",
       "      <td>1203.0</td>\n",
       "      <td>0.10960</td>\n",
       "      <td>0.15990</td>\n",
       "      <td>0.1974</td>\n",
       "      <td>0.12790</td>\n",
       "      <td>0.2069</td>\n",
       "      <td>0.05999</td>\n",
       "      <td>...</td>\n",
       "      <td>25.53</td>\n",
       "      <td>152.50</td>\n",
       "      <td>1709.0</td>\n",
       "      <td>0.1444</td>\n",
       "      <td>0.4245</td>\n",
       "      <td>0.4504</td>\n",
       "      <td>0.2430</td>\n",
       "      <td>0.3613</td>\n",
       "      <td>0.08758</td>\n",
       "      <td>0</td>\n",
       "    </tr>\n",
       "    <tr>\n",
       "      <th>3</th>\n",
       "      <td>11.42</td>\n",
       "      <td>20.38</td>\n",
       "      <td>77.58</td>\n",
       "      <td>386.1</td>\n",
       "      <td>0.14250</td>\n",
       "      <td>0.28390</td>\n",
       "      <td>0.2414</td>\n",
       "      <td>0.10520</td>\n",
       "      <td>0.2597</td>\n",
       "      <td>0.09744</td>\n",
       "      <td>...</td>\n",
       "      <td>26.50</td>\n",
       "      <td>98.87</td>\n",
       "      <td>567.7</td>\n",
       "      <td>0.2098</td>\n",
       "      <td>0.8663</td>\n",
       "      <td>0.6869</td>\n",
       "      <td>0.2575</td>\n",
       "      <td>0.6638</td>\n",
       "      <td>0.17300</td>\n",
       "      <td>0</td>\n",
       "    </tr>\n",
       "    <tr>\n",
       "      <th>4</th>\n",
       "      <td>20.29</td>\n",
       "      <td>14.34</td>\n",
       "      <td>135.10</td>\n",
       "      <td>1297.0</td>\n",
       "      <td>0.10030</td>\n",
       "      <td>0.13280</td>\n",
       "      <td>0.1980</td>\n",
       "      <td>0.10430</td>\n",
       "      <td>0.1809</td>\n",
       "      <td>0.05883</td>\n",
       "      <td>...</td>\n",
       "      <td>16.67</td>\n",
       "      <td>152.20</td>\n",
       "      <td>1575.0</td>\n",
       "      <td>0.1374</td>\n",
       "      <td>0.2050</td>\n",
       "      <td>0.4000</td>\n",
       "      <td>0.1625</td>\n",
       "      <td>0.2364</td>\n",
       "      <td>0.07678</td>\n",
       "      <td>0</td>\n",
       "    </tr>\n",
       "  </tbody>\n",
       "</table>\n",
       "<p>5 rows × 31 columns</p>\n",
       "</div>"
      ],
      "text/plain": [
       "   mean radius  mean texture  mean perimeter  mean area  mean smoothness  \\\n",
       "0        17.99         10.38          122.80     1001.0          0.11840   \n",
       "1        20.57         17.77          132.90     1326.0          0.08474   \n",
       "2        19.69         21.25          130.00     1203.0          0.10960   \n",
       "3        11.42         20.38           77.58      386.1          0.14250   \n",
       "4        20.29         14.34          135.10     1297.0          0.10030   \n",
       "\n",
       "   mean compactness  mean concavity  mean concave points  mean symmetry  \\\n",
       "0           0.27760          0.3001              0.14710         0.2419   \n",
       "1           0.07864          0.0869              0.07017         0.1812   \n",
       "2           0.15990          0.1974              0.12790         0.2069   \n",
       "3           0.28390          0.2414              0.10520         0.2597   \n",
       "4           0.13280          0.1980              0.10430         0.1809   \n",
       "\n",
       "   mean fractal dimension  ...  worst texture  worst perimeter  worst area  \\\n",
       "0                 0.07871  ...          17.33           184.60      2019.0   \n",
       "1                 0.05667  ...          23.41           158.80      1956.0   \n",
       "2                 0.05999  ...          25.53           152.50      1709.0   \n",
       "3                 0.09744  ...          26.50            98.87       567.7   \n",
       "4                 0.05883  ...          16.67           152.20      1575.0   \n",
       "\n",
       "   worst smoothness  worst compactness  worst concavity  worst concave points  \\\n",
       "0            0.1622             0.6656           0.7119                0.2654   \n",
       "1            0.1238             0.1866           0.2416                0.1860   \n",
       "2            0.1444             0.4245           0.4504                0.2430   \n",
       "3            0.2098             0.8663           0.6869                0.2575   \n",
       "4            0.1374             0.2050           0.4000                0.1625   \n",
       "\n",
       "   worst symmetry  worst fractal dimension  target  \n",
       "0          0.4601                  0.11890       0  \n",
       "1          0.2750                  0.08902       0  \n",
       "2          0.3613                  0.08758       0  \n",
       "3          0.6638                  0.17300       0  \n",
       "4          0.2364                  0.07678       0  \n",
       "\n",
       "[5 rows x 31 columns]"
      ]
     },
     "execution_count": 35,
     "metadata": {},
     "output_type": "execute_result"
    }
   ],
   "source": [
    "from sklearn.datasets import load_breast_cancer\n",
    "bc=load_breast_cancer()\n",
    "features=bc['data']\n",
    "feature_names=bc['feature_names']\n",
    "labels=bc['target']\n",
    "df=pd.DataFrame(features,columns=feature_names)\n",
    "df['target']=labels\n",
    "df.head()"
   ]
  },
  {
   "cell_type": "code",
   "execution_count": 63,
   "metadata": {},
   "outputs": [
    {
     "name": "stdout",
     "output_type": "stream",
     "text": [
      "[[33  6]\n",
      " [ 5 70]]\n",
      "(array([0.86842105, 0.92105263]), array([0.84615385, 0.93333333]), array([0.85714286, 0.92715232]), array([39, 75], dtype=int64))\n",
      "(0.8947368421052632, 0.8897435897435897, 0.8921475875118259, None)\n"
     ]
    }
   ],
   "source": [
    "X,Y=df.iloc[:,:-1],df.iloc[:,-1]\n",
    "X_train,X_test,Y_train,Y_test=train_test_split(X,Y,test_size=.2,random_state=40)\n",
    "clf=DecisionTreeClassifier(max_depth=2)\n",
    "clf.fit(X_train,Y_train)\n",
    "Y_pred=clf.predict(X_test)\n",
    "print(confusion_matrix(Y_test,Y_pred))\n",
    "print(precision_recall_fscore_support(Y_test,Y_pred,beta=1))\n",
    "print(precision_recall_fscore_support(Y_test,Y_pred,beta=1,average='macro'))"
   ]
  },
  {
   "cell_type": "code",
   "execution_count": 64,
   "metadata": {},
   "outputs": [
    {
     "data": {
      "text/plain": [
       "array([0.97735849, 0.04938272, 0.97735849, 0.97735849, 0.04938272,\n",
       "       0.97735849, 0.97735849, 0.97735849, 0.04938272, 0.97735849,\n",
       "       0.04938272, 0.97735849, 0.97735849, 0.97735849, 0.04938272,\n",
       "       0.97735849, 0.97735849, 0.97735849, 0.97735849, 0.97735849,\n",
       "       0.97735849, 0.04938272, 0.97735849, 0.72222222, 0.04938272,\n",
       "       0.04938272, 0.04938272, 0.04938272, 0.97735849, 0.97735849,\n",
       "       0.97735849, 0.04938272, 0.72222222, 0.97735849, 0.97735849,\n",
       "       0.04938272, 0.97735849, 0.04938272, 0.97735849, 0.97735849,\n",
       "       0.04938272, 0.97735849, 0.97735849, 0.97735849, 0.04938272,\n",
       "       0.04938272, 0.97735849, 0.97735849, 0.04938272, 0.97735849,\n",
       "       0.04938272, 0.97735849, 0.97735849, 0.97735849, 0.72222222,\n",
       "       0.97735849, 0.04938272, 0.97735849, 0.04938272, 0.97735849,\n",
       "       0.97735849, 0.04938272, 0.97735849, 0.97735849, 0.97735849,\n",
       "       0.04938272, 0.04938272, 0.04938272, 0.97735849, 0.97735849,\n",
       "       0.97735849, 0.04938272, 0.72222222, 0.97735849, 0.04938272,\n",
       "       0.04938272, 0.04938272, 0.97735849, 0.97735849, 0.97735849,\n",
       "       0.97735849, 0.97735849, 0.04938272, 0.97735849, 0.04938272,\n",
       "       0.97735849, 0.04938272, 0.04938272, 0.97735849, 0.04938272,\n",
       "       0.04938272, 0.04938272, 0.97735849, 0.97735849, 0.97735849,\n",
       "       0.2       , 0.72222222, 0.97735849, 0.97735849, 0.97735849,\n",
       "       0.97735849, 0.97735849, 0.97735849, 0.04938272, 0.97735849,\n",
       "       0.97735849, 0.72222222, 0.04938272, 0.97735849, 0.97735849,\n",
       "       0.97735849, 0.97735849, 0.72222222, 0.97735849])"
      ]
     },
     "execution_count": 64,
     "metadata": {},
     "output_type": "execute_result"
    }
   ],
   "source": [
    "Y_pred_proba=clf.predict_proba(X_test)[:,1]\n",
    "#if the final leaf has 5 zeros and 10 ones -> probability is 2/3\n",
    "Y_pred_proba"
   ]
  },
  {
   "cell_type": "code",
   "execution_count": 65,
   "metadata": {},
   "outputs": [
    {
     "data": {
      "text/plain": [
       "<matplotlib.legend.Legend at 0x1eb16b47fc8>"
      ]
     },
     "execution_count": 65,
     "metadata": {},
     "output_type": "execute_result"
    },
    {
     "data": {
      "image/png": "[encoded data removed]",
      "text/plain": [
       "<Figure size 432x288 with 1 Axes>"
      ]
     },
     "metadata": {
      "needs_background": "light"
     },
     "output_type": "display_data"
    }
   ],
   "source": [
    "fpr,tpr, threshold=roc_curve(Y_test,Y_pred_proba)\n",
    "auc=roc_auc_score(Y_test,Y_pred_proba)\n",
    "plt.plot(fpr,tpr,\"r-\", label='DecisionTreeClassifier')\n",
    "plt.plot([0,1],[0,1],'b--',label='random guess')\n",
    "plt.xlabel('false positive rate')\n",
    "plt.ylabel('true positive rate')\n",
    "plt.title('AUC={0:.2f}'.format(auc))\n",
    "plt.legend(loc='lower right')"
   ]
  },
  {
   "cell_type": "code",
   "execution_count": 66,
   "metadata": {},
   "outputs": [
    {
     "data": {
      "text/plain": [
       "array([0.        , 0.05128205, 0.15384615, 0.17948718, 1.        ])"
      ]
     },
     "execution_count": 66,
     "metadata": {},
     "output_type": "execute_result"
    }
   ],
   "source": [
    "fpr"
   ]
  },
  {
   "cell_type": "code",
   "execution_count": 67,
   "metadata": {},
   "outputs": [
    {
     "data": {
      "text/plain": [
       "array([0.        , 0.89333333, 0.93333333, 0.93333333, 1.        ])"
      ]
     },
     "execution_count": 67,
     "metadata": {},
     "output_type": "execute_result"
    }
   ],
   "source": [
    "tpr"
   ]
  },
  {
   "cell_type": "code",
   "execution_count": null,
   "metadata": {},
   "outputs": [],
   "source": []
  }
 ],
 "metadata": {
  "kernelspec": {
   "display_name": "Python 3",
   "language": "python",
   "name": "python3"
  },
  "language_info": {
   "codemirror_mode": {
    "name": "ipython",
    "version": 3
   },
   "file_extension": ".py",
   "mimetype": "text/x-python",
   "name": "python",
   "nbconvert_exporter": "python",
   "pygments_lexer": "ipython3",
   "version": "3.7.6"
  }
 },
 "nbformat": 4,
 "nbformat_minor": 4
}
